{
 "cells": [
  {
   "cell_type": "markdown",
   "id": "64104787-d92e-4d7f-b726-4b248798c0b6",
   "metadata": {},
   "source": [
    "#                                                  Analyzing Amazon Sales data:"
   ]
  },
  {
   "cell_type": "markdown",
   "id": "393f04ea-6c9a-4373-9e39-d4638283bda5",
   "metadata": {},
   "source": [
    "#### - Importing the necessary Libraries to perform the EDA."
   ]
  },
  {
   "cell_type": "code",
   "execution_count": 1,
   "id": "3179a292-e0a7-445e-9d18-4fde8213cc12",
   "metadata": {},
   "outputs": [],
   "source": [
    "import numpy as np\n",
    "import pandas as pd\n",
    "import matplotlib.pyplot as plt\n",
    "import seaborn as sns"
   ]
  },
  {
   "cell_type": "code",
   "execution_count": 2,
   "id": "0560b826-53c3-416f-bda7-fa513e482b8c",
   "metadata": {},
   "outputs": [],
   "source": [
    "pd.set_option('display.max_rows', 1000)  # This will display all rows\n",
    "pd.set_option('display.max_columns', 200)  # This will display all columns"
   ]
  },
  {
   "cell_type": "markdown",
   "id": "ec85a7c9-836f-4e6a-b2ee-dff41ce50a8c",
   "metadata": {},
   "source": [
    "#### - Importing the CSV file from the system."
   ]
  },
  {
   "cell_type": "code",
   "execution_count": 3,
   "id": "fe759b57-fe6c-4d81-b20b-8c56a4c6e088",
   "metadata": {},
   "outputs": [],
   "source": [
    "Data_Frame= pd.read_csv('/Users/sanjay/Desktop/Working UMProject/Project -1/Amazon Sales data.csv')"
   ]
  },
  {
   "cell_type": "code",
   "execution_count": 4,
   "id": "245d4edb-2f2a-4f2b-9f8e-0cbdb8f4be09",
   "metadata": {
    "scrolled": true
   },
   "outputs": [
    {
     "data": {
      "text/html": [
       "<div>\n",
       "<style scoped>\n",
       "    .dataframe tbody tr th:only-of-type {\n",
       "        vertical-align: middle;\n",
       "    }\n",
       "\n",
       "    .dataframe tbody tr th {\n",
       "        vertical-align: top;\n",
       "    }\n",
       "\n",
       "    .dataframe thead th {\n",
       "        text-align: right;\n",
       "    }\n",
       "</style>\n",
       "<table border=\"1\" class=\"dataframe\">\n",
       "  <thead>\n",
       "    <tr style=\"text-align: right;\">\n",
       "      <th></th>\n",
       "      <th>Region</th>\n",
       "      <th>Country</th>\n",
       "      <th>Item Type</th>\n",
       "      <th>Sales Channel</th>\n",
       "      <th>Order Priority</th>\n",
       "      <th>Order Date</th>\n",
       "      <th>Order ID</th>\n",
       "      <th>Ship Date</th>\n",
       "      <th>Units Sold</th>\n",
       "      <th>Unit Price</th>\n",
       "      <th>Unit Cost</th>\n",
       "      <th>Total Revenue</th>\n",
       "      <th>Total Cost</th>\n",
       "      <th>Total Profit</th>\n",
       "    </tr>\n",
       "  </thead>\n",
       "  <tbody>\n",
       "    <tr>\n",
       "      <th>0</th>\n",
       "      <td>Australia and Oceania</td>\n",
       "      <td>Tuvalu</td>\n",
       "      <td>Baby Food</td>\n",
       "      <td>Offline</td>\n",
       "      <td>H</td>\n",
       "      <td>5/28/2010</td>\n",
       "      <td>669165933</td>\n",
       "      <td>6/27/2010</td>\n",
       "      <td>9925</td>\n",
       "      <td>255.28</td>\n",
       "      <td>159.42</td>\n",
       "      <td>2533654.00</td>\n",
       "      <td>1582243.50</td>\n",
       "      <td>951410.50</td>\n",
       "    </tr>\n",
       "    <tr>\n",
       "      <th>1</th>\n",
       "      <td>Central America and the Caribbean</td>\n",
       "      <td>Grenada</td>\n",
       "      <td>Cereal</td>\n",
       "      <td>Online</td>\n",
       "      <td>C</td>\n",
       "      <td>8/22/2012</td>\n",
       "      <td>963881480</td>\n",
       "      <td>9/15/2012</td>\n",
       "      <td>2804</td>\n",
       "      <td>205.70</td>\n",
       "      <td>117.11</td>\n",
       "      <td>576782.80</td>\n",
       "      <td>328376.44</td>\n",
       "      <td>248406.36</td>\n",
       "    </tr>\n",
       "    <tr>\n",
       "      <th>2</th>\n",
       "      <td>Europe</td>\n",
       "      <td>Russia</td>\n",
       "      <td>Office Supplies</td>\n",
       "      <td>Offline</td>\n",
       "      <td>L</td>\n",
       "      <td>2/5/2014</td>\n",
       "      <td>341417157</td>\n",
       "      <td>8/5/2014</td>\n",
       "      <td>1779</td>\n",
       "      <td>651.21</td>\n",
       "      <td>524.96</td>\n",
       "      <td>1158502.59</td>\n",
       "      <td>933903.84</td>\n",
       "      <td>224598.75</td>\n",
       "    </tr>\n",
       "    <tr>\n",
       "      <th>3</th>\n",
       "      <td>Sub-Saharan Africa</td>\n",
       "      <td>Sao Tome and Principe</td>\n",
       "      <td>Fruits</td>\n",
       "      <td>Online</td>\n",
       "      <td>C</td>\n",
       "      <td>6/20/2014</td>\n",
       "      <td>514321792</td>\n",
       "      <td>5/7/2014</td>\n",
       "      <td>8102</td>\n",
       "      <td>9.33</td>\n",
       "      <td>6.92</td>\n",
       "      <td>75591.66</td>\n",
       "      <td>56065.84</td>\n",
       "      <td>19525.82</td>\n",
       "    </tr>\n",
       "    <tr>\n",
       "      <th>4</th>\n",
       "      <td>Sub-Saharan Africa</td>\n",
       "      <td>Rwanda</td>\n",
       "      <td>Office Supplies</td>\n",
       "      <td>Offline</td>\n",
       "      <td>L</td>\n",
       "      <td>1/2/2013</td>\n",
       "      <td>115456712</td>\n",
       "      <td>6/2/2013</td>\n",
       "      <td>5062</td>\n",
       "      <td>651.21</td>\n",
       "      <td>524.96</td>\n",
       "      <td>3296425.02</td>\n",
       "      <td>2657347.52</td>\n",
       "      <td>639077.50</td>\n",
       "    </tr>\n",
       "  </tbody>\n",
       "</table>\n",
       "</div>"
      ],
      "text/plain": [
       "                              Region                Country        Item Type  \\\n",
       "0              Australia and Oceania                 Tuvalu        Baby Food   \n",
       "1  Central America and the Caribbean                Grenada           Cereal   \n",
       "2                             Europe                 Russia  Office Supplies   \n",
       "3                 Sub-Saharan Africa  Sao Tome and Principe           Fruits   \n",
       "4                 Sub-Saharan Africa                 Rwanda  Office Supplies   \n",
       "\n",
       "  Sales Channel Order Priority Order Date   Order ID  Ship Date  Units Sold  \\\n",
       "0       Offline              H  5/28/2010  669165933  6/27/2010        9925   \n",
       "1        Online              C  8/22/2012  963881480  9/15/2012        2804   \n",
       "2       Offline              L   2/5/2014  341417157   8/5/2014        1779   \n",
       "3        Online              C  6/20/2014  514321792   5/7/2014        8102   \n",
       "4       Offline              L   1/2/2013  115456712   6/2/2013        5062   \n",
       "\n",
       "   Unit Price  Unit Cost  Total Revenue  Total Cost  Total Profit  \n",
       "0      255.28     159.42     2533654.00  1582243.50     951410.50  \n",
       "1      205.70     117.11      576782.80   328376.44     248406.36  \n",
       "2      651.21     524.96     1158502.59   933903.84     224598.75  \n",
       "3        9.33       6.92       75591.66    56065.84      19525.82  \n",
       "4      651.21     524.96     3296425.02  2657347.52     639077.50  "
      ]
     },
     "execution_count": 4,
     "metadata": {},
     "output_type": "execute_result"
    }
   ],
   "source": [
    "Data_Frame.head()"
   ]
  },
  {
   "cell_type": "code",
   "execution_count": 5,
   "id": "52c56cee-90ec-44f4-8e87-0c0f88ce4714",
   "metadata": {},
   "outputs": [
    {
     "data": {
      "text/plain": [
       "(100, 14)"
      ]
     },
     "execution_count": 5,
     "metadata": {},
     "output_type": "execute_result"
    }
   ],
   "source": [
    "Data_Frame.shape"
   ]
  },
  {
   "cell_type": "code",
   "execution_count": 6,
   "id": "97b74a1d-b8e6-4b62-b5aa-1f065549b0c7",
   "metadata": {},
   "outputs": [
    {
     "data": {
      "text/plain": [
       "2"
      ]
     },
     "execution_count": 6,
     "metadata": {},
     "output_type": "execute_result"
    }
   ],
   "source": [
    "Data_Frame.ndim"
   ]
  },
  {
   "cell_type": "markdown",
   "id": "afdd2936-05ef-4382-8387-661662fafb08",
   "metadata": {},
   "source": [
    "### Performing the ETL for the dataset."
   ]
  },
  {
   "cell_type": "markdown",
   "id": "f100411b-2496-47ae-9585-6430f1778351",
   "metadata": {},
   "source": [
    "#### Seeing if there is any duplicates, missing valves in dataset and the adjusting the dtpyes of the columns to correct dtypes and adding columns."
   ]
  },
  {
   "cell_type": "code",
   "execution_count": 7,
   "id": "7345cbeb-0eb5-4c90-8eb4-c46d87e668c0",
   "metadata": {},
   "outputs": [],
   "source": [
    "Data_Frame.drop_duplicates(inplace=True)"
   ]
  },
  {
   "cell_type": "markdown",
   "id": "929c3b6d-bb7a-42db-8069-9b73ae32a92a",
   "metadata": {},
   "source": [
    "####  -As we can see there is no duplicates in the dataset."
   ]
  },
  {
   "cell_type": "code",
   "execution_count": 8,
   "id": "56cf354c-3232-4563-b94c-79afa3631352",
   "metadata": {},
   "outputs": [
    {
     "data": {
      "text/html": [
       "<div>\n",
       "<style scoped>\n",
       "    .dataframe tbody tr th:only-of-type {\n",
       "        vertical-align: middle;\n",
       "    }\n",
       "\n",
       "    .dataframe tbody tr th {\n",
       "        vertical-align: top;\n",
       "    }\n",
       "\n",
       "    .dataframe thead th {\n",
       "        text-align: right;\n",
       "    }\n",
       "</style>\n",
       "<table border=\"1\" class=\"dataframe\">\n",
       "  <thead>\n",
       "    <tr style=\"text-align: right;\">\n",
       "      <th></th>\n",
       "      <th>Region</th>\n",
       "      <th>Country</th>\n",
       "      <th>Item Type</th>\n",
       "      <th>Sales Channel</th>\n",
       "      <th>Order Priority</th>\n",
       "      <th>Order Date</th>\n",
       "      <th>Order ID</th>\n",
       "      <th>Ship Date</th>\n",
       "      <th>Units Sold</th>\n",
       "      <th>Unit Price</th>\n",
       "      <th>Unit Cost</th>\n",
       "      <th>Total Revenue</th>\n",
       "      <th>Total Cost</th>\n",
       "      <th>Total Profit</th>\n",
       "    </tr>\n",
       "  </thead>\n",
       "  <tbody>\n",
       "    <tr>\n",
       "      <th>0</th>\n",
       "      <td>Australia and Oceania</td>\n",
       "      <td>Tuvalu</td>\n",
       "      <td>Baby Food</td>\n",
       "      <td>Offline</td>\n",
       "      <td>H</td>\n",
       "      <td>5/28/2010</td>\n",
       "      <td>669165933</td>\n",
       "      <td>6/27/2010</td>\n",
       "      <td>9925</td>\n",
       "      <td>255.28</td>\n",
       "      <td>159.42</td>\n",
       "      <td>2533654.00</td>\n",
       "      <td>1582243.50</td>\n",
       "      <td>951410.50</td>\n",
       "    </tr>\n",
       "    <tr>\n",
       "      <th>1</th>\n",
       "      <td>Central America and the Caribbean</td>\n",
       "      <td>Grenada</td>\n",
       "      <td>Cereal</td>\n",
       "      <td>Online</td>\n",
       "      <td>C</td>\n",
       "      <td>8/22/2012</td>\n",
       "      <td>963881480</td>\n",
       "      <td>9/15/2012</td>\n",
       "      <td>2804</td>\n",
       "      <td>205.70</td>\n",
       "      <td>117.11</td>\n",
       "      <td>576782.80</td>\n",
       "      <td>328376.44</td>\n",
       "      <td>248406.36</td>\n",
       "    </tr>\n",
       "    <tr>\n",
       "      <th>2</th>\n",
       "      <td>Europe</td>\n",
       "      <td>Russia</td>\n",
       "      <td>Office Supplies</td>\n",
       "      <td>Offline</td>\n",
       "      <td>L</td>\n",
       "      <td>2/5/2014</td>\n",
       "      <td>341417157</td>\n",
       "      <td>8/5/2014</td>\n",
       "      <td>1779</td>\n",
       "      <td>651.21</td>\n",
       "      <td>524.96</td>\n",
       "      <td>1158502.59</td>\n",
       "      <td>933903.84</td>\n",
       "      <td>224598.75</td>\n",
       "    </tr>\n",
       "    <tr>\n",
       "      <th>3</th>\n",
       "      <td>Sub-Saharan Africa</td>\n",
       "      <td>Sao Tome and Principe</td>\n",
       "      <td>Fruits</td>\n",
       "      <td>Online</td>\n",
       "      <td>C</td>\n",
       "      <td>6/20/2014</td>\n",
       "      <td>514321792</td>\n",
       "      <td>5/7/2014</td>\n",
       "      <td>8102</td>\n",
       "      <td>9.33</td>\n",
       "      <td>6.92</td>\n",
       "      <td>75591.66</td>\n",
       "      <td>56065.84</td>\n",
       "      <td>19525.82</td>\n",
       "    </tr>\n",
       "    <tr>\n",
       "      <th>4</th>\n",
       "      <td>Sub-Saharan Africa</td>\n",
       "      <td>Rwanda</td>\n",
       "      <td>Office Supplies</td>\n",
       "      <td>Offline</td>\n",
       "      <td>L</td>\n",
       "      <td>1/2/2013</td>\n",
       "      <td>115456712</td>\n",
       "      <td>6/2/2013</td>\n",
       "      <td>5062</td>\n",
       "      <td>651.21</td>\n",
       "      <td>524.96</td>\n",
       "      <td>3296425.02</td>\n",
       "      <td>2657347.52</td>\n",
       "      <td>639077.50</td>\n",
       "    </tr>\n",
       "  </tbody>\n",
       "</table>\n",
       "</div>"
      ],
      "text/plain": [
       "                              Region                Country        Item Type  \\\n",
       "0              Australia and Oceania                 Tuvalu        Baby Food   \n",
       "1  Central America and the Caribbean                Grenada           Cereal   \n",
       "2                             Europe                 Russia  Office Supplies   \n",
       "3                 Sub-Saharan Africa  Sao Tome and Principe           Fruits   \n",
       "4                 Sub-Saharan Africa                 Rwanda  Office Supplies   \n",
       "\n",
       "  Sales Channel Order Priority Order Date   Order ID  Ship Date  Units Sold  \\\n",
       "0       Offline              H  5/28/2010  669165933  6/27/2010        9925   \n",
       "1        Online              C  8/22/2012  963881480  9/15/2012        2804   \n",
       "2       Offline              L   2/5/2014  341417157   8/5/2014        1779   \n",
       "3        Online              C  6/20/2014  514321792   5/7/2014        8102   \n",
       "4       Offline              L   1/2/2013  115456712   6/2/2013        5062   \n",
       "\n",
       "   Unit Price  Unit Cost  Total Revenue  Total Cost  Total Profit  \n",
       "0      255.28     159.42     2533654.00  1582243.50     951410.50  \n",
       "1      205.70     117.11      576782.80   328376.44     248406.36  \n",
       "2      651.21     524.96     1158502.59   933903.84     224598.75  \n",
       "3        9.33       6.92       75591.66    56065.84      19525.82  \n",
       "4      651.21     524.96     3296425.02  2657347.52     639077.50  "
      ]
     },
     "execution_count": 8,
     "metadata": {},
     "output_type": "execute_result"
    }
   ],
   "source": [
    "Data_Frame.head()"
   ]
  },
  {
   "cell_type": "code",
   "execution_count": 9,
   "id": "42740bdd-0512-4406-b27e-ce67b93894bd",
   "metadata": {},
   "outputs": [
    {
     "data": {
      "text/plain": [
       "Region            0\n",
       "Country           0\n",
       "Item Type         0\n",
       "Sales Channel     0\n",
       "Order Priority    0\n",
       "Order Date        0\n",
       "Order ID          0\n",
       "Ship Date         0\n",
       "Units Sold        0\n",
       "Unit Price        0\n",
       "Unit Cost         0\n",
       "Total Revenue     0\n",
       "Total Cost        0\n",
       "Total Profit      0\n",
       "dtype: int64"
      ]
     },
     "execution_count": 9,
     "metadata": {},
     "output_type": "execute_result"
    }
   ],
   "source": [
    "Data_Frame.isna().sum()"
   ]
  },
  {
   "cell_type": "markdown",
   "id": "5318cbb6-9fa7-4b46-8c09-8edcdbc0f9d4",
   "metadata": {},
   "source": [
    "####  - There is also no missing values in the dataset"
   ]
  },
  {
   "cell_type": "code",
   "execution_count": 10,
   "id": "90a68b9c-6994-4fcb-9880-19a4c9def841",
   "metadata": {},
   "outputs": [
    {
     "data": {
      "text/plain": [
       "Region             object\n",
       "Country            object\n",
       "Item Type          object\n",
       "Sales Channel      object\n",
       "Order Priority     object\n",
       "Order Date         object\n",
       "Order ID            int64\n",
       "Ship Date          object\n",
       "Units Sold          int64\n",
       "Unit Price        float64\n",
       "Unit Cost         float64\n",
       "Total Revenue     float64\n",
       "Total Cost        float64\n",
       "Total Profit      float64\n",
       "dtype: object"
      ]
     },
     "execution_count": 10,
     "metadata": {},
     "output_type": "execute_result"
    }
   ],
   "source": [
    "Data_Frame.dtypes"
   ]
  },
  {
   "cell_type": "markdown",
   "id": "85a0fad9-cb6a-4bc4-b72f-a30ca3afe694",
   "metadata": {},
   "source": [
    "* As we can see the dtypes of the column are not defined correct for Order Date & Ship Date, so adjusting to correct dtypes."
   ]
  },
  {
   "cell_type": "code",
   "execution_count": 11,
   "id": "cf64205c-a64e-43d2-aa5b-517b8ab2e02a",
   "metadata": {},
   "outputs": [],
   "source": [
    "Data_Frame['Order Date'] = pd.to_datetime(Data_Frame['Order Date'])"
   ]
  },
  {
   "cell_type": "code",
   "execution_count": 12,
   "id": "9c31949c-f363-4ab6-b9a1-0520c2367077",
   "metadata": {},
   "outputs": [],
   "source": [
    "Data_Frame['Ship Date']= pd.to_datetime(Data_Frame['Ship Date'])"
   ]
  },
  {
   "cell_type": "code",
   "execution_count": 13,
   "id": "765d8dcd-df96-4981-87f7-116a042eec39",
   "metadata": {},
   "outputs": [
    {
     "data": {
      "text/plain": [
       "Region                    object\n",
       "Country                   object\n",
       "Item Type                 object\n",
       "Sales Channel             object\n",
       "Order Priority            object\n",
       "Order Date        datetime64[ns]\n",
       "Order ID                   int64\n",
       "Ship Date         datetime64[ns]\n",
       "Units Sold                 int64\n",
       "Unit Price               float64\n",
       "Unit Cost                float64\n",
       "Total Revenue            float64\n",
       "Total Cost               float64\n",
       "Total Profit             float64\n",
       "dtype: object"
      ]
     },
     "execution_count": 13,
     "metadata": {},
     "output_type": "execute_result"
    }
   ],
   "source": [
    "Data_Frame.dtypes"
   ]
  },
  {
   "cell_type": "markdown",
   "id": "62c8f834-7d8f-42ee-a22d-28a2df3cc8f4",
   "metadata": {},
   "source": [
    "####  Engineering column to extract years & months from Order Date column for showing sales trends."
   ]
  },
  {
   "cell_type": "code",
   "execution_count": 14,
   "id": "cc1d3e85-992f-4621-8dbe-bb9aa12ad4c3",
   "metadata": {},
   "outputs": [],
   "source": [
    "Data_Frame['Order Year']=Data_Frame['Order Date'].dt.year\n",
    "Data_Frame['Order Month']=Data_Frame['Order Date'].dt.month_name()"
   ]
  },
  {
   "cell_type": "code",
   "execution_count": 15,
   "id": "d1f64fe9-fc7e-406e-96d6-c169ccf64b9e",
   "metadata": {},
   "outputs": [],
   "source": [
    "Data_Frame['Year - Month']=Data_Frame['Order Year'].astype(str) + '-' + Data_Frame['Order Month'].astype(str)"
   ]
  },
  {
   "cell_type": "code",
   "execution_count": 16,
   "id": "14b2729b-fc5e-4c2d-b6d7-160258c869f9",
   "metadata": {},
   "outputs": [
    {
     "data": {
      "text/html": [
       "<div>\n",
       "<style scoped>\n",
       "    .dataframe tbody tr th:only-of-type {\n",
       "        vertical-align: middle;\n",
       "    }\n",
       "\n",
       "    .dataframe tbody tr th {\n",
       "        vertical-align: top;\n",
       "    }\n",
       "\n",
       "    .dataframe thead th {\n",
       "        text-align: right;\n",
       "    }\n",
       "</style>\n",
       "<table border=\"1\" class=\"dataframe\">\n",
       "  <thead>\n",
       "    <tr style=\"text-align: right;\">\n",
       "      <th></th>\n",
       "      <th>Region</th>\n",
       "      <th>Country</th>\n",
       "      <th>Item Type</th>\n",
       "      <th>Sales Channel</th>\n",
       "      <th>Order Priority</th>\n",
       "      <th>Order Date</th>\n",
       "      <th>Order ID</th>\n",
       "      <th>Ship Date</th>\n",
       "      <th>Units Sold</th>\n",
       "      <th>Unit Price</th>\n",
       "      <th>Unit Cost</th>\n",
       "      <th>Total Revenue</th>\n",
       "      <th>Total Cost</th>\n",
       "      <th>Total Profit</th>\n",
       "      <th>Order Year</th>\n",
       "      <th>Order Month</th>\n",
       "      <th>Year - Month</th>\n",
       "    </tr>\n",
       "  </thead>\n",
       "  <tbody>\n",
       "    <tr>\n",
       "      <th>0</th>\n",
       "      <td>Australia and Oceania</td>\n",
       "      <td>Tuvalu</td>\n",
       "      <td>Baby Food</td>\n",
       "      <td>Offline</td>\n",
       "      <td>H</td>\n",
       "      <td>2010-05-28</td>\n",
       "      <td>669165933</td>\n",
       "      <td>2010-06-27</td>\n",
       "      <td>9925</td>\n",
       "      <td>255.28</td>\n",
       "      <td>159.42</td>\n",
       "      <td>2533654.00</td>\n",
       "      <td>1582243.50</td>\n",
       "      <td>951410.50</td>\n",
       "      <td>2010</td>\n",
       "      <td>May</td>\n",
       "      <td>2010-May</td>\n",
       "    </tr>\n",
       "    <tr>\n",
       "      <th>1</th>\n",
       "      <td>Central America and the Caribbean</td>\n",
       "      <td>Grenada</td>\n",
       "      <td>Cereal</td>\n",
       "      <td>Online</td>\n",
       "      <td>C</td>\n",
       "      <td>2012-08-22</td>\n",
       "      <td>963881480</td>\n",
       "      <td>2012-09-15</td>\n",
       "      <td>2804</td>\n",
       "      <td>205.70</td>\n",
       "      <td>117.11</td>\n",
       "      <td>576782.80</td>\n",
       "      <td>328376.44</td>\n",
       "      <td>248406.36</td>\n",
       "      <td>2012</td>\n",
       "      <td>August</td>\n",
       "      <td>2012-August</td>\n",
       "    </tr>\n",
       "    <tr>\n",
       "      <th>2</th>\n",
       "      <td>Europe</td>\n",
       "      <td>Russia</td>\n",
       "      <td>Office Supplies</td>\n",
       "      <td>Offline</td>\n",
       "      <td>L</td>\n",
       "      <td>2014-02-05</td>\n",
       "      <td>341417157</td>\n",
       "      <td>2014-08-05</td>\n",
       "      <td>1779</td>\n",
       "      <td>651.21</td>\n",
       "      <td>524.96</td>\n",
       "      <td>1158502.59</td>\n",
       "      <td>933903.84</td>\n",
       "      <td>224598.75</td>\n",
       "      <td>2014</td>\n",
       "      <td>February</td>\n",
       "      <td>2014-February</td>\n",
       "    </tr>\n",
       "    <tr>\n",
       "      <th>3</th>\n",
       "      <td>Sub-Saharan Africa</td>\n",
       "      <td>Sao Tome and Principe</td>\n",
       "      <td>Fruits</td>\n",
       "      <td>Online</td>\n",
       "      <td>C</td>\n",
       "      <td>2014-06-20</td>\n",
       "      <td>514321792</td>\n",
       "      <td>2014-05-07</td>\n",
       "      <td>8102</td>\n",
       "      <td>9.33</td>\n",
       "      <td>6.92</td>\n",
       "      <td>75591.66</td>\n",
       "      <td>56065.84</td>\n",
       "      <td>19525.82</td>\n",
       "      <td>2014</td>\n",
       "      <td>June</td>\n",
       "      <td>2014-June</td>\n",
       "    </tr>\n",
       "    <tr>\n",
       "      <th>4</th>\n",
       "      <td>Sub-Saharan Africa</td>\n",
       "      <td>Rwanda</td>\n",
       "      <td>Office Supplies</td>\n",
       "      <td>Offline</td>\n",
       "      <td>L</td>\n",
       "      <td>2013-01-02</td>\n",
       "      <td>115456712</td>\n",
       "      <td>2013-06-02</td>\n",
       "      <td>5062</td>\n",
       "      <td>651.21</td>\n",
       "      <td>524.96</td>\n",
       "      <td>3296425.02</td>\n",
       "      <td>2657347.52</td>\n",
       "      <td>639077.50</td>\n",
       "      <td>2013</td>\n",
       "      <td>January</td>\n",
       "      <td>2013-January</td>\n",
       "    </tr>\n",
       "  </tbody>\n",
       "</table>\n",
       "</div>"
      ],
      "text/plain": [
       "                              Region                Country        Item Type  \\\n",
       "0              Australia and Oceania                 Tuvalu        Baby Food   \n",
       "1  Central America and the Caribbean                Grenada           Cereal   \n",
       "2                             Europe                 Russia  Office Supplies   \n",
       "3                 Sub-Saharan Africa  Sao Tome and Principe           Fruits   \n",
       "4                 Sub-Saharan Africa                 Rwanda  Office Supplies   \n",
       "\n",
       "  Sales Channel Order Priority Order Date   Order ID  Ship Date  Units Sold  \\\n",
       "0       Offline              H 2010-05-28  669165933 2010-06-27        9925   \n",
       "1        Online              C 2012-08-22  963881480 2012-09-15        2804   \n",
       "2       Offline              L 2014-02-05  341417157 2014-08-05        1779   \n",
       "3        Online              C 2014-06-20  514321792 2014-05-07        8102   \n",
       "4       Offline              L 2013-01-02  115456712 2013-06-02        5062   \n",
       "\n",
       "   Unit Price  Unit Cost  Total Revenue  Total Cost  Total Profit  Order Year  \\\n",
       "0      255.28     159.42     2533654.00  1582243.50     951410.50        2010   \n",
       "1      205.70     117.11      576782.80   328376.44     248406.36        2012   \n",
       "2      651.21     524.96     1158502.59   933903.84     224598.75        2014   \n",
       "3        9.33       6.92       75591.66    56065.84      19525.82        2014   \n",
       "4      651.21     524.96     3296425.02  2657347.52     639077.50        2013   \n",
       "\n",
       "  Order Month   Year - Month  \n",
       "0         May       2010-May  \n",
       "1      August    2012-August  \n",
       "2    February  2014-February  \n",
       "3        June      2014-June  \n",
       "4     January   2013-January  "
      ]
     },
     "execution_count": 16,
     "metadata": {},
     "output_type": "execute_result"
    }
   ],
   "source": [
    "Data_Frame.head()"
   ]
  },
  {
   "cell_type": "markdown",
   "id": "68f8475e-57eb-4900-9cb2-668608d3872b",
   "metadata": {},
   "source": [
    "####  To know the describe of the numerical data in the dataset."
   ]
  },
  {
   "cell_type": "code",
   "execution_count": 17,
   "id": "a1bb5fd3-720b-4aba-aeaa-27e40e72e996",
   "metadata": {
    "scrolled": true
   },
   "outputs": [
    {
     "data": {
      "text/html": [
       "<div>\n",
       "<style scoped>\n",
       "    .dataframe tbody tr th:only-of-type {\n",
       "        vertical-align: middle;\n",
       "    }\n",
       "\n",
       "    .dataframe tbody tr th {\n",
       "        vertical-align: top;\n",
       "    }\n",
       "\n",
       "    .dataframe thead th {\n",
       "        text-align: right;\n",
       "    }\n",
       "</style>\n",
       "<table border=\"1\" class=\"dataframe\">\n",
       "  <thead>\n",
       "    <tr style=\"text-align: right;\">\n",
       "      <th></th>\n",
       "      <th>Units Sold</th>\n",
       "      <th>Unit Price</th>\n",
       "      <th>Unit Cost</th>\n",
       "      <th>Total Revenue</th>\n",
       "      <th>Total Cost</th>\n",
       "      <th>Total Profit</th>\n",
       "    </tr>\n",
       "  </thead>\n",
       "  <tbody>\n",
       "    <tr>\n",
       "      <th>count</th>\n",
       "      <td>100.000000</td>\n",
       "      <td>100.000000</td>\n",
       "      <td>100.000000</td>\n",
       "      <td>1.000000e+02</td>\n",
       "      <td>1.000000e+02</td>\n",
       "      <td>1.000000e+02</td>\n",
       "    </tr>\n",
       "    <tr>\n",
       "      <th>mean</th>\n",
       "      <td>5128.710000</td>\n",
       "      <td>276.761300</td>\n",
       "      <td>191.048000</td>\n",
       "      <td>1.373488e+06</td>\n",
       "      <td>9.318057e+05</td>\n",
       "      <td>4.416820e+05</td>\n",
       "    </tr>\n",
       "    <tr>\n",
       "      <th>std</th>\n",
       "      <td>2794.484562</td>\n",
       "      <td>235.592241</td>\n",
       "      <td>188.208181</td>\n",
       "      <td>1.460029e+06</td>\n",
       "      <td>1.083938e+06</td>\n",
       "      <td>4.385379e+05</td>\n",
       "    </tr>\n",
       "    <tr>\n",
       "      <th>min</th>\n",
       "      <td>124.000000</td>\n",
       "      <td>9.330000</td>\n",
       "      <td>6.920000</td>\n",
       "      <td>4.870260e+03</td>\n",
       "      <td>3.612240e+03</td>\n",
       "      <td>1.258020e+03</td>\n",
       "    </tr>\n",
       "    <tr>\n",
       "      <th>25%</th>\n",
       "      <td>2836.250000</td>\n",
       "      <td>81.730000</td>\n",
       "      <td>35.840000</td>\n",
       "      <td>2.687212e+05</td>\n",
       "      <td>1.688680e+05</td>\n",
       "      <td>1.214436e+05</td>\n",
       "    </tr>\n",
       "    <tr>\n",
       "      <th>50%</th>\n",
       "      <td>5382.500000</td>\n",
       "      <td>179.880000</td>\n",
       "      <td>107.275000</td>\n",
       "      <td>7.523144e+05</td>\n",
       "      <td>3.635664e+05</td>\n",
       "      <td>2.907680e+05</td>\n",
       "    </tr>\n",
       "    <tr>\n",
       "      <th>75%</th>\n",
       "      <td>7369.000000</td>\n",
       "      <td>437.200000</td>\n",
       "      <td>263.330000</td>\n",
       "      <td>2.212045e+06</td>\n",
       "      <td>1.613870e+06</td>\n",
       "      <td>6.358288e+05</td>\n",
       "    </tr>\n",
       "    <tr>\n",
       "      <th>max</th>\n",
       "      <td>9925.000000</td>\n",
       "      <td>668.270000</td>\n",
       "      <td>524.960000</td>\n",
       "      <td>5.997055e+06</td>\n",
       "      <td>4.509794e+06</td>\n",
       "      <td>1.719922e+06</td>\n",
       "    </tr>\n",
       "  </tbody>\n",
       "</table>\n",
       "</div>"
      ],
      "text/plain": [
       "        Units Sold  Unit Price   Unit Cost  Total Revenue    Total Cost  \\\n",
       "count   100.000000  100.000000  100.000000   1.000000e+02  1.000000e+02   \n",
       "mean   5128.710000  276.761300  191.048000   1.373488e+06  9.318057e+05   \n",
       "std    2794.484562  235.592241  188.208181   1.460029e+06  1.083938e+06   \n",
       "min     124.000000    9.330000    6.920000   4.870260e+03  3.612240e+03   \n",
       "25%    2836.250000   81.730000   35.840000   2.687212e+05  1.688680e+05   \n",
       "50%    5382.500000  179.880000  107.275000   7.523144e+05  3.635664e+05   \n",
       "75%    7369.000000  437.200000  263.330000   2.212045e+06  1.613870e+06   \n",
       "max    9925.000000  668.270000  524.960000   5.997055e+06  4.509794e+06   \n",
       "\n",
       "       Total Profit  \n",
       "count  1.000000e+02  \n",
       "mean   4.416820e+05  \n",
       "std    4.385379e+05  \n",
       "min    1.258020e+03  \n",
       "25%    1.214436e+05  \n",
       "50%    2.907680e+05  \n",
       "75%    6.358288e+05  \n",
       "max    1.719922e+06  "
      ]
     },
     "execution_count": 17,
     "metadata": {},
     "output_type": "execute_result"
    }
   ],
   "source": [
    "Numerical_stat=Data_Frame.drop(['Order ID','Order Year','Order Month','Order Date','Ship Date'],axis=1)\n",
    "Numerical_stat.describe()"
   ]
  },
  {
   "cell_type": "markdown",
   "id": "21fa3be3-e9c2-4d77-bcac-f1225338b956",
   "metadata": {},
   "source": [
    "### Done with ETL of the dataset, now performing the EDA of the dataset."
   ]
  },
  {
   "cell_type": "markdown",
   "id": "da30ba4c-854b-4c9d-963b-c16c0c80726a",
   "metadata": {},
   "source": [
    "#### Analysing the Catagorical columns of the dataset to get some insights."
   ]
  },
  {
   "cell_type": "code",
   "execution_count": 18,
   "id": "036225d7-6921-4f09-b226-18dbc42835b6",
   "metadata": {},
   "outputs": [
    {
     "data": {
      "text/plain": [
       "array(['Australia and Oceania', 'Central America and the Caribbean',\n",
       "       'Europe', 'Sub-Saharan Africa', 'Asia',\n",
       "       'Middle East and North Africa', 'North America'], dtype=object)"
      ]
     },
     "execution_count": 18,
     "metadata": {},
     "output_type": "execute_result"
    }
   ],
   "source": [
    "Data_Frame['Region'].unique()"
   ]
  },
  {
   "cell_type": "code",
   "execution_count": 19,
   "id": "6410e23b-7c41-4f5e-a85e-011274dd1f15",
   "metadata": {},
   "outputs": [
    {
     "data": {
      "text/plain": [
       "array(['Tuvalu', 'Grenada', 'Russia', 'Sao Tome and Principe', 'Rwanda',\n",
       "       'Solomon Islands', 'Angola', 'Burkina Faso',\n",
       "       'Republic of the Congo', 'Senegal', 'Kyrgyzstan', 'Cape Verde',\n",
       "       'Bangladesh', 'Honduras', 'Mongolia', 'Bulgaria', 'Sri Lanka',\n",
       "       'Cameroon', 'Turkmenistan', 'East Timor', 'Norway', 'Portugal',\n",
       "       'New Zealand', 'Moldova ', 'France', 'Kiribati', 'Mali',\n",
       "       'The Gambia', 'Switzerland', 'South Sudan', 'Australia', 'Myanmar',\n",
       "       'Djibouti', 'Costa Rica', 'Syria', 'Brunei', 'Niger', 'Azerbaijan',\n",
       "       'Slovakia', 'Comoros', 'Iceland', 'Macedonia', 'Mauritania',\n",
       "       'Albania', 'Lesotho', 'Saudi Arabia', 'Sierra Leone',\n",
       "       \"Cote d'Ivoire\", 'Fiji', 'Austria', 'United Kingdom', 'San Marino',\n",
       "       'Libya', 'Haiti', 'Gabon', 'Belize', 'Lithuania', 'Madagascar',\n",
       "       'Democratic Republic of the Congo', 'Pakistan', 'Mexico',\n",
       "       'Federated States of Micronesia', 'Laos', 'Monaco', 'Samoa ',\n",
       "       'Spain', 'Lebanon', 'Iran', 'Zambia', 'Kenya', 'Kuwait',\n",
       "       'Slovenia', 'Romania', 'Nicaragua', 'Malaysia', 'Mozambique'],\n",
       "      dtype=object)"
      ]
     },
     "execution_count": 19,
     "metadata": {},
     "output_type": "execute_result"
    }
   ],
   "source": [
    "Data_Frame['Country'].unique()"
   ]
  },
  {
   "cell_type": "code",
   "execution_count": 20,
   "id": "b62125df-0cb4-4888-8455-17c51902902d",
   "metadata": {},
   "outputs": [
    {
     "data": {
      "text/plain": [
       "array(['Baby Food', 'Cereal', 'Office Supplies', 'Fruits', 'Household',\n",
       "       'Vegetables', 'Personal Care', 'Clothes', 'Cosmetics', 'Beverages',\n",
       "       'Meat', 'Snacks'], dtype=object)"
      ]
     },
     "execution_count": 20,
     "metadata": {},
     "output_type": "execute_result"
    }
   ],
   "source": [
    "Data_Frame['Item Type'].unique()"
   ]
  },
  {
   "cell_type": "code",
   "execution_count": 21,
   "id": "3930712d-99bf-4a80-8a09-04ab3001bc7c",
   "metadata": {},
   "outputs": [
    {
     "data": {
      "text/plain": [
       "array(['Offline', 'Online'], dtype=object)"
      ]
     },
     "execution_count": 21,
     "metadata": {},
     "output_type": "execute_result"
    }
   ],
   "source": [
    "Data_Frame['Sales Channel'].unique()"
   ]
  },
  {
   "cell_type": "code",
   "execution_count": 22,
   "id": "97689a19-f6ca-49cd-b1d7-d345c6acf8ff",
   "metadata": {},
   "outputs": [
    {
     "data": {
      "text/plain": [
       "array(['H', 'C', 'L', 'M'], dtype=object)"
      ]
     },
     "execution_count": 22,
     "metadata": {},
     "output_type": "execute_result"
    }
   ],
   "source": [
    "Data_Frame['Order Priority'].unique()"
   ]
  },
  {
   "cell_type": "code",
   "execution_count": 23,
   "id": "ac1e96d6-5d25-414d-993c-ad4ff4d4a4d7",
   "metadata": {},
   "outputs": [
    {
     "data": {
      "text/plain": [
       "array([2010, 2012, 2014, 2013, 2015, 2011, 2017, 2016], dtype=int32)"
      ]
     },
     "execution_count": 23,
     "metadata": {},
     "output_type": "execute_result"
    }
   ],
   "source": [
    "Data_Frame['Order Year'].unique()"
   ]
  },
  {
   "cell_type": "code",
   "execution_count": 24,
   "id": "49b2fba4-660f-4e2d-ba2a-0effb4b97d00",
   "metadata": {},
   "outputs": [
    {
     "data": {
      "text/plain": [
       "array(['May', 'August', 'February', 'June', 'January', 'April', 'July',\n",
       "       'November', 'December', 'October', 'September', 'March'],\n",
       "      dtype=object)"
      ]
     },
     "execution_count": 24,
     "metadata": {},
     "output_type": "execute_result"
    }
   ],
   "source": [
    "Data_Frame['Order Month'].unique()"
   ]
  },
  {
   "attachments": {},
   "cell_type": "markdown",
   "id": "9d65dd40-4861-4eb6-893a-c665cb8f5e72",
   "metadata": {},
   "source": [
    "### Finding the Sales-trend -> month-wise, year-wise, yearly_month-wise by ploting an charts for getting the trends from the dataset\n"
   ]
  },
  {
   "cell_type": "markdown",
   "id": "e594d988-6316-45e3-a2c3-c8b2a4742ab5",
   "metadata": {},
   "source": [
    "#### - Month wise Sales or Total Revenue Bar graph"
   ]
  },
  {
   "cell_type": "code",
   "execution_count": 25,
   "id": "db651257-89d5-431e-b396-8b74b0dda06e",
   "metadata": {},
   "outputs": [
    {
     "data": {
      "text/html": [
       "<div>\n",
       "<style scoped>\n",
       "    .dataframe tbody tr th:only-of-type {\n",
       "        vertical-align: middle;\n",
       "    }\n",
       "\n",
       "    .dataframe tbody tr th {\n",
       "        vertical-align: top;\n",
       "    }\n",
       "\n",
       "    .dataframe thead th {\n",
       "        text-align: right;\n",
       "    }\n",
       "</style>\n",
       "<table border=\"1\" class=\"dataframe\">\n",
       "  <thead>\n",
       "    <tr style=\"text-align: right;\">\n",
       "      <th></th>\n",
       "      <th>Region</th>\n",
       "      <th>Country</th>\n",
       "      <th>Item Type</th>\n",
       "      <th>Sales Channel</th>\n",
       "      <th>Order Priority</th>\n",
       "      <th>Order Date</th>\n",
       "      <th>Order ID</th>\n",
       "      <th>Ship Date</th>\n",
       "      <th>Units Sold</th>\n",
       "      <th>Unit Price</th>\n",
       "      <th>Unit Cost</th>\n",
       "      <th>Total Revenue</th>\n",
       "      <th>Total Cost</th>\n",
       "      <th>Total Profit</th>\n",
       "      <th>Order Year</th>\n",
       "      <th>Order Month</th>\n",
       "      <th>Year - Month</th>\n",
       "    </tr>\n",
       "  </thead>\n",
       "  <tbody>\n",
       "    <tr>\n",
       "      <th>0</th>\n",
       "      <td>Australia and Oceania</td>\n",
       "      <td>Tuvalu</td>\n",
       "      <td>Baby Food</td>\n",
       "      <td>Offline</td>\n",
       "      <td>H</td>\n",
       "      <td>2010-05-28</td>\n",
       "      <td>669165933</td>\n",
       "      <td>2010-06-27</td>\n",
       "      <td>9925</td>\n",
       "      <td>255.28</td>\n",
       "      <td>159.42</td>\n",
       "      <td>2533654.00</td>\n",
       "      <td>1582243.50</td>\n",
       "      <td>951410.50</td>\n",
       "      <td>2010</td>\n",
       "      <td>May</td>\n",
       "      <td>2010-May</td>\n",
       "    </tr>\n",
       "    <tr>\n",
       "      <th>1</th>\n",
       "      <td>Central America and the Caribbean</td>\n",
       "      <td>Grenada</td>\n",
       "      <td>Cereal</td>\n",
       "      <td>Online</td>\n",
       "      <td>C</td>\n",
       "      <td>2012-08-22</td>\n",
       "      <td>963881480</td>\n",
       "      <td>2012-09-15</td>\n",
       "      <td>2804</td>\n",
       "      <td>205.70</td>\n",
       "      <td>117.11</td>\n",
       "      <td>576782.80</td>\n",
       "      <td>328376.44</td>\n",
       "      <td>248406.36</td>\n",
       "      <td>2012</td>\n",
       "      <td>August</td>\n",
       "      <td>2012-August</td>\n",
       "    </tr>\n",
       "    <tr>\n",
       "      <th>2</th>\n",
       "      <td>Europe</td>\n",
       "      <td>Russia</td>\n",
       "      <td>Office Supplies</td>\n",
       "      <td>Offline</td>\n",
       "      <td>L</td>\n",
       "      <td>2014-02-05</td>\n",
       "      <td>341417157</td>\n",
       "      <td>2014-08-05</td>\n",
       "      <td>1779</td>\n",
       "      <td>651.21</td>\n",
       "      <td>524.96</td>\n",
       "      <td>1158502.59</td>\n",
       "      <td>933903.84</td>\n",
       "      <td>224598.75</td>\n",
       "      <td>2014</td>\n",
       "      <td>February</td>\n",
       "      <td>2014-February</td>\n",
       "    </tr>\n",
       "    <tr>\n",
       "      <th>3</th>\n",
       "      <td>Sub-Saharan Africa</td>\n",
       "      <td>Sao Tome and Principe</td>\n",
       "      <td>Fruits</td>\n",
       "      <td>Online</td>\n",
       "      <td>C</td>\n",
       "      <td>2014-06-20</td>\n",
       "      <td>514321792</td>\n",
       "      <td>2014-05-07</td>\n",
       "      <td>8102</td>\n",
       "      <td>9.33</td>\n",
       "      <td>6.92</td>\n",
       "      <td>75591.66</td>\n",
       "      <td>56065.84</td>\n",
       "      <td>19525.82</td>\n",
       "      <td>2014</td>\n",
       "      <td>June</td>\n",
       "      <td>2014-June</td>\n",
       "    </tr>\n",
       "    <tr>\n",
       "      <th>4</th>\n",
       "      <td>Sub-Saharan Africa</td>\n",
       "      <td>Rwanda</td>\n",
       "      <td>Office Supplies</td>\n",
       "      <td>Offline</td>\n",
       "      <td>L</td>\n",
       "      <td>2013-01-02</td>\n",
       "      <td>115456712</td>\n",
       "      <td>2013-06-02</td>\n",
       "      <td>5062</td>\n",
       "      <td>651.21</td>\n",
       "      <td>524.96</td>\n",
       "      <td>3296425.02</td>\n",
       "      <td>2657347.52</td>\n",
       "      <td>639077.50</td>\n",
       "      <td>2013</td>\n",
       "      <td>January</td>\n",
       "      <td>2013-January</td>\n",
       "    </tr>\n",
       "  </tbody>\n",
       "</table>\n",
       "</div>"
      ],
      "text/plain": [
       "                              Region                Country        Item Type  \\\n",
       "0              Australia and Oceania                 Tuvalu        Baby Food   \n",
       "1  Central America and the Caribbean                Grenada           Cereal   \n",
       "2                             Europe                 Russia  Office Supplies   \n",
       "3                 Sub-Saharan Africa  Sao Tome and Principe           Fruits   \n",
       "4                 Sub-Saharan Africa                 Rwanda  Office Supplies   \n",
       "\n",
       "  Sales Channel Order Priority Order Date   Order ID  Ship Date  Units Sold  \\\n",
       "0       Offline              H 2010-05-28  669165933 2010-06-27        9925   \n",
       "1        Online              C 2012-08-22  963881480 2012-09-15        2804   \n",
       "2       Offline              L 2014-02-05  341417157 2014-08-05        1779   \n",
       "3        Online              C 2014-06-20  514321792 2014-05-07        8102   \n",
       "4       Offline              L 2013-01-02  115456712 2013-06-02        5062   \n",
       "\n",
       "   Unit Price  Unit Cost  Total Revenue  Total Cost  Total Profit  Order Year  \\\n",
       "0      255.28     159.42     2533654.00  1582243.50     951410.50        2010   \n",
       "1      205.70     117.11      576782.80   328376.44     248406.36        2012   \n",
       "2      651.21     524.96     1158502.59   933903.84     224598.75        2014   \n",
       "3        9.33       6.92       75591.66    56065.84      19525.82        2014   \n",
       "4      651.21     524.96     3296425.02  2657347.52     639077.50        2013   \n",
       "\n",
       "  Order Month   Year - Month  \n",
       "0         May       2010-May  \n",
       "1      August    2012-August  \n",
       "2    February  2014-February  \n",
       "3        June      2014-June  \n",
       "4     January   2013-January  "
      ]
     },
     "execution_count": 25,
     "metadata": {},
     "output_type": "execute_result"
    }
   ],
   "source": [
    "Data_Frame.head()"
   ]
  },
  {
   "cell_type": "code",
   "execution_count": 26,
   "id": "30c04629-8afe-4f19-981b-164615eeadcd",
   "metadata": {},
   "outputs": [
    {
     "data": {
      "image/png": "[encoded data removed]",
      "text/plain": [
       "<Figure size 1300x600 with 1 Axes>"
      ]
     },
     "metadata": {},
     "output_type": "display_data"
    }
   ],
   "source": [
    "plt.figure(figsize=(13,6))\n",
    "\n",
    "plt.bar(Data_Frame['Order Month'], Data_Frame['Total Revenue'],color='orange')\n",
    "\n",
    "plt.xlabel('Order Month')  # Label for the X-axis\n",
    "plt.ylabel('Total Revenue')  # Label for the Y-axis\n",
    "plt.title('Total Revenue by Order Month')  # Title of the plot\n",
    "plt.xticks(rotation=45) # Rotate the x-axis labels for better readability\n",
    "plt.tight_layout()\n",
    "plt.gca().ticklabel_format(style='plain', axis='y') # To remove the scientific notation on the Y-axis\n",
    "plt.show()"
   ]
  },
  {
   "cell_type": "markdown",
   "id": "500d28f4-170c-4c2f-8e60-96ba32e62ca8",
   "metadata": {},
   "source": [
    "#### > INSIGHT : We can see the month wise total revenue is highest in the month of AUGUST"
   ]
  },
  {
   "cell_type": "markdown",
   "id": "e9e9ab03-fbf7-4ff8-b793-06f7ad9ff0ee",
   "metadata": {},
   "source": [
    "#"
   ]
  },
  {
   "cell_type": "markdown",
   "id": "d96dc004-478d-4b93-bf2f-aabf667b6b2e",
   "metadata": {},
   "source": [
    "####  Year Wise Sales or Total Revenue Bar graph"
   ]
  },
  {
   "cell_type": "code",
   "execution_count": 27,
   "id": "a670c814-d133-4866-a396-491d704ab130",
   "metadata": {},
   "outputs": [
    {
     "data": {
      "image/png": "[encoded data removed]",
      "text/plain": [
       "<Figure size 1300x600 with 1 Axes>"
      ]
     },
     "metadata": {},
     "output_type": "display_data"
    }
   ],
   "source": [
    "plt.figure(figsize=(13,6))\n",
    "plt.bar(Data_Frame['Order Year'],Data_Frame['Total Revenue'],color='red')\n",
    "plt.xlabel('Order Year')\n",
    "plt.ylabel('Total Revenue')\n",
    "plt.title('Total Revenue by Order Year')\n",
    "plt.gca().ticklabel_format(style='plain', axis='y')"
   ]
  },
  {
   "cell_type": "markdown",
   "id": "eaad04e2-860c-4492-be3a-c08444fd803e",
   "metadata": {},
   "source": [
    "####  > INSIGHT : The highest revenue is generated in the year 2017"
   ]
  },
  {
   "cell_type": "markdown",
   "id": "a62251a6-1162-4e8f-bb40-8982bbd5d568",
   "metadata": {},
   "source": [
    "#"
   ]
  },
  {
   "cell_type": "markdown",
   "id": "2c00315f-dd33-47bf-aa28-f73f2f6bde80",
   "metadata": {},
   "source": [
    "#### - Yearly Month Wise Total Revenue Bar Graph"
   ]
  },
  {
   "cell_type": "code",
   "execution_count": 28,
   "id": "8ce852f0-2a29-4e3e-9a3c-2787ae622e6a",
   "metadata": {},
   "outputs": [],
   "source": [
    "Year_Month_Column_df=Data_Frame[['Year - Month','Total Revenue']] # created an new variable with Year-month & Total revenue"
   ]
  },
  {
   "cell_type": "code",
   "execution_count": 29,
   "id": "0c7eec7f-d862-4630-ab6e-99c7005f5e97",
   "metadata": {},
   "outputs": [
    {
     "data": {
      "text/html": [
       "<div>\n",
       "<style scoped>\n",
       "    .dataframe tbody tr th:only-of-type {\n",
       "        vertical-align: middle;\n",
       "    }\n",
       "\n",
       "    .dataframe tbody tr th {\n",
       "        vertical-align: top;\n",
       "    }\n",
       "\n",
       "    .dataframe thead th {\n",
       "        text-align: right;\n",
       "    }\n",
       "</style>\n",
       "<table border=\"1\" class=\"dataframe\">\n",
       "  <thead>\n",
       "    <tr style=\"text-align: right;\">\n",
       "      <th></th>\n",
       "      <th>Year - Month</th>\n",
       "      <th>Total Revenue</th>\n",
       "    </tr>\n",
       "  </thead>\n",
       "  <tbody>\n",
       "    <tr>\n",
       "      <th>0</th>\n",
       "      <td>2010-May</td>\n",
       "      <td>2533654.00</td>\n",
       "    </tr>\n",
       "    <tr>\n",
       "      <th>1</th>\n",
       "      <td>2012-August</td>\n",
       "      <td>576782.80</td>\n",
       "    </tr>\n",
       "    <tr>\n",
       "      <th>2</th>\n",
       "      <td>2014-February</td>\n",
       "      <td>1158502.59</td>\n",
       "    </tr>\n",
       "    <tr>\n",
       "      <th>3</th>\n",
       "      <td>2014-June</td>\n",
       "      <td>75591.66</td>\n",
       "    </tr>\n",
       "    <tr>\n",
       "      <th>4</th>\n",
       "      <td>2013-January</td>\n",
       "      <td>3296425.02</td>\n",
       "    </tr>\n",
       "  </tbody>\n",
       "</table>\n",
       "</div>"
      ],
      "text/plain": [
       "    Year - Month  Total Revenue\n",
       "0       2010-May     2533654.00\n",
       "1    2012-August      576782.80\n",
       "2  2014-February     1158502.59\n",
       "3      2014-June       75591.66\n",
       "4   2013-January     3296425.02"
      ]
     },
     "execution_count": 29,
     "metadata": {},
     "output_type": "execute_result"
    }
   ],
   "source": [
    "Year_Month_Column_df.head()"
   ]
  },
  {
   "cell_type": "code",
   "execution_count": 30,
   "id": "c48fd716-851c-4bd8-a869-024a98645acb",
   "metadata": {},
   "outputs": [],
   "source": [
    "Group_Year_Months=Year_Month_Column_df.groupby(by='Year - Month') #Groupby the Year-Month column in Year_Month_Column_df"
   ]
  },
  {
   "cell_type": "code",
   "execution_count": 31,
   "id": "e24a35cc-b281-49a6-8e08-9aaeb12df264",
   "metadata": {},
   "outputs": [],
   "source": [
    "Year_Month_agg=Group_Year_Months['Total Revenue'].sum() #used the aggerations sum function to total one Year-Month"
   ]
  },
  {
   "cell_type": "code",
   "execution_count": 32,
   "id": "b84a4f21-3eff-486e-a0c7-90c402e3d307",
   "metadata": {},
   "outputs": [],
   "source": [
    "Year_Month_df=Year_Month_agg.to_frame().reset_index() # Formed an Data Frame to show the plot of this Year_Month_agg "
   ]
  },
  {
   "cell_type": "code",
   "execution_count": 33,
   "id": "daedc5f5-2cfb-4fde-8ba5-a6c1b024338d",
   "metadata": {},
   "outputs": [
    {
     "data": {
      "text/html": [
       "<div>\n",
       "<style scoped>\n",
       "    .dataframe tbody tr th:only-of-type {\n",
       "        vertical-align: middle;\n",
       "    }\n",
       "\n",
       "    .dataframe tbody tr th {\n",
       "        vertical-align: top;\n",
       "    }\n",
       "\n",
       "    .dataframe thead th {\n",
       "        text-align: right;\n",
       "    }\n",
       "</style>\n",
       "<table border=\"1\" class=\"dataframe\">\n",
       "  <thead>\n",
       "    <tr style=\"text-align: right;\">\n",
       "      <th></th>\n",
       "      <th>Year - Month</th>\n",
       "      <th>Total Revenue</th>\n",
       "    </tr>\n",
       "  </thead>\n",
       "  <tbody>\n",
       "    <tr>\n",
       "      <th>0</th>\n",
       "      <td>2010-December</td>\n",
       "      <td>2581786.39</td>\n",
       "    </tr>\n",
       "    <tr>\n",
       "      <th>1</th>\n",
       "      <td>2010-February</td>\n",
       "      <td>247956.32</td>\n",
       "    </tr>\n",
       "    <tr>\n",
       "      <th>2</th>\n",
       "      <td>2010-July</td>\n",
       "      <td>54319.26</td>\n",
       "    </tr>\n",
       "    <tr>\n",
       "      <th>3</th>\n",
       "      <td>2010-June</td>\n",
       "      <td>4245123.20</td>\n",
       "    </tr>\n",
       "    <tr>\n",
       "      <th>4</th>\n",
       "      <td>2010-May</td>\n",
       "      <td>2533654.00</td>\n",
       "    </tr>\n",
       "  </tbody>\n",
       "</table>\n",
       "</div>"
      ],
      "text/plain": [
       "    Year - Month  Total Revenue\n",
       "0  2010-December     2581786.39\n",
       "1  2010-February      247956.32\n",
       "2      2010-July       54319.26\n",
       "3      2010-June     4245123.20\n",
       "4       2010-May     2533654.00"
      ]
     },
     "execution_count": 33,
     "metadata": {},
     "output_type": "execute_result"
    }
   ],
   "source": [
    "Year_Month_df.head() # Data Frame"
   ]
  },
  {
   "cell_type": "code",
   "execution_count": 34,
   "id": "856ce3f1-f6f7-46c8-b790-f1d962b690c8",
   "metadata": {},
   "outputs": [
    {
     "data": {
      "image/png": "[encoded data removed]",
      "text/plain": [
       "<Figure size 2000x600 with 1 Axes>"
      ]
     },
     "metadata": {},
     "output_type": "display_data"
    }
   ],
   "source": [
    "# The Graph that shows the unique Year-Month total revenue \n",
    "\n",
    "plt.figure(figsize=(20,6))\n",
    "\n",
    "plt.bar(Year_Month_df['Year - Month'],Year_Month_df['Total Revenue'],color='green',linewidth=2,edgecolor='black')\n",
    "plt.xlabel('Year - Month')\n",
    "plt.ylabel('Total Revenue')\n",
    "plt.title('Total Revenue by Order Year')\n",
    "plt.xticks(rotation=90)\n",
    "plt.gca().ticklabel_format(style='plain', axis='y')\n",
    "plt.tight_layout()    "
   ]
  },
  {
   "cell_type": "markdown",
   "id": "463dcf32-73b4-481d-b134-b7c8202f99b0",
   "metadata": {},
   "source": [
    "#### > INSIGHT : The higest revenue generated in yearly month wise is 2017-August"
   ]
  },
  {
   "cell_type": "markdown",
   "id": "92e55664-4b1f-4063-bd02-0469a1cfb77c",
   "metadata": {},
   "source": [
    "#"
   ]
  },
  {
   "cell_type": "markdown",
   "id": "8cf87828-4859-454c-9783-dc79747d6eb5",
   "metadata": {},
   "source": [
    "####  Total Revenue Performance by Region:"
   ]
  },
  {
   "cell_type": "code",
   "execution_count": 35,
   "id": "51b47dc8-d51b-46f9-a474-257e3a05cebd",
   "metadata": {},
   "outputs": [
    {
     "data": {
      "text/html": [
       "<div>\n",
       "<style scoped>\n",
       "    .dataframe tbody tr th:only-of-type {\n",
       "        vertical-align: middle;\n",
       "    }\n",
       "\n",
       "    .dataframe tbody tr th {\n",
       "        vertical-align: top;\n",
       "    }\n",
       "\n",
       "    .dataframe thead th {\n",
       "        text-align: right;\n",
       "    }\n",
       "</style>\n",
       "<table border=\"1\" class=\"dataframe\">\n",
       "  <thead>\n",
       "    <tr style=\"text-align: right;\">\n",
       "      <th></th>\n",
       "      <th>Region</th>\n",
       "      <th>Country</th>\n",
       "      <th>Item Type</th>\n",
       "      <th>Sales Channel</th>\n",
       "      <th>Order Priority</th>\n",
       "      <th>Order Date</th>\n",
       "      <th>Order ID</th>\n",
       "      <th>Ship Date</th>\n",
       "      <th>Units Sold</th>\n",
       "      <th>Unit Price</th>\n",
       "      <th>Unit Cost</th>\n",
       "      <th>Total Revenue</th>\n",
       "      <th>Total Cost</th>\n",
       "      <th>Total Profit</th>\n",
       "      <th>Order Year</th>\n",
       "      <th>Order Month</th>\n",
       "      <th>Year - Month</th>\n",
       "    </tr>\n",
       "  </thead>\n",
       "  <tbody>\n",
       "    <tr>\n",
       "      <th>0</th>\n",
       "      <td>Australia and Oceania</td>\n",
       "      <td>Tuvalu</td>\n",
       "      <td>Baby Food</td>\n",
       "      <td>Offline</td>\n",
       "      <td>H</td>\n",
       "      <td>2010-05-28</td>\n",
       "      <td>669165933</td>\n",
       "      <td>2010-06-27</td>\n",
       "      <td>9925</td>\n",
       "      <td>255.28</td>\n",
       "      <td>159.42</td>\n",
       "      <td>2533654.00</td>\n",
       "      <td>1582243.50</td>\n",
       "      <td>951410.50</td>\n",
       "      <td>2010</td>\n",
       "      <td>May</td>\n",
       "      <td>2010-May</td>\n",
       "    </tr>\n",
       "    <tr>\n",
       "      <th>1</th>\n",
       "      <td>Central America and the Caribbean</td>\n",
       "      <td>Grenada</td>\n",
       "      <td>Cereal</td>\n",
       "      <td>Online</td>\n",
       "      <td>C</td>\n",
       "      <td>2012-08-22</td>\n",
       "      <td>963881480</td>\n",
       "      <td>2012-09-15</td>\n",
       "      <td>2804</td>\n",
       "      <td>205.70</td>\n",
       "      <td>117.11</td>\n",
       "      <td>576782.80</td>\n",
       "      <td>328376.44</td>\n",
       "      <td>248406.36</td>\n",
       "      <td>2012</td>\n",
       "      <td>August</td>\n",
       "      <td>2012-August</td>\n",
       "    </tr>\n",
       "    <tr>\n",
       "      <th>2</th>\n",
       "      <td>Europe</td>\n",
       "      <td>Russia</td>\n",
       "      <td>Office Supplies</td>\n",
       "      <td>Offline</td>\n",
       "      <td>L</td>\n",
       "      <td>2014-02-05</td>\n",
       "      <td>341417157</td>\n",
       "      <td>2014-08-05</td>\n",
       "      <td>1779</td>\n",
       "      <td>651.21</td>\n",
       "      <td>524.96</td>\n",
       "      <td>1158502.59</td>\n",
       "      <td>933903.84</td>\n",
       "      <td>224598.75</td>\n",
       "      <td>2014</td>\n",
       "      <td>February</td>\n",
       "      <td>2014-February</td>\n",
       "    </tr>\n",
       "    <tr>\n",
       "      <th>3</th>\n",
       "      <td>Sub-Saharan Africa</td>\n",
       "      <td>Sao Tome and Principe</td>\n",
       "      <td>Fruits</td>\n",
       "      <td>Online</td>\n",
       "      <td>C</td>\n",
       "      <td>2014-06-20</td>\n",
       "      <td>514321792</td>\n",
       "      <td>2014-05-07</td>\n",
       "      <td>8102</td>\n",
       "      <td>9.33</td>\n",
       "      <td>6.92</td>\n",
       "      <td>75591.66</td>\n",
       "      <td>56065.84</td>\n",
       "      <td>19525.82</td>\n",
       "      <td>2014</td>\n",
       "      <td>June</td>\n",
       "      <td>2014-June</td>\n",
       "    </tr>\n",
       "    <tr>\n",
       "      <th>4</th>\n",
       "      <td>Sub-Saharan Africa</td>\n",
       "      <td>Rwanda</td>\n",
       "      <td>Office Supplies</td>\n",
       "      <td>Offline</td>\n",
       "      <td>L</td>\n",
       "      <td>2013-01-02</td>\n",
       "      <td>115456712</td>\n",
       "      <td>2013-06-02</td>\n",
       "      <td>5062</td>\n",
       "      <td>651.21</td>\n",
       "      <td>524.96</td>\n",
       "      <td>3296425.02</td>\n",
       "      <td>2657347.52</td>\n",
       "      <td>639077.50</td>\n",
       "      <td>2013</td>\n",
       "      <td>January</td>\n",
       "      <td>2013-January</td>\n",
       "    </tr>\n",
       "  </tbody>\n",
       "</table>\n",
       "</div>"
      ],
      "text/plain": [
       "                              Region                Country        Item Type  \\\n",
       "0              Australia and Oceania                 Tuvalu        Baby Food   \n",
       "1  Central America and the Caribbean                Grenada           Cereal   \n",
       "2                             Europe                 Russia  Office Supplies   \n",
       "3                 Sub-Saharan Africa  Sao Tome and Principe           Fruits   \n",
       "4                 Sub-Saharan Africa                 Rwanda  Office Supplies   \n",
       "\n",
       "  Sales Channel Order Priority Order Date   Order ID  Ship Date  Units Sold  \\\n",
       "0       Offline              H 2010-05-28  669165933 2010-06-27        9925   \n",
       "1        Online              C 2012-08-22  963881480 2012-09-15        2804   \n",
       "2       Offline              L 2014-02-05  341417157 2014-08-05        1779   \n",
       "3        Online              C 2014-06-20  514321792 2014-05-07        8102   \n",
       "4       Offline              L 2013-01-02  115456712 2013-06-02        5062   \n",
       "\n",
       "   Unit Price  Unit Cost  Total Revenue  Total Cost  Total Profit  Order Year  \\\n",
       "0      255.28     159.42     2533654.00  1582243.50     951410.50        2010   \n",
       "1      205.70     117.11      576782.80   328376.44     248406.36        2012   \n",
       "2      651.21     524.96     1158502.59   933903.84     224598.75        2014   \n",
       "3        9.33       6.92       75591.66    56065.84      19525.82        2014   \n",
       "4      651.21     524.96     3296425.02  2657347.52     639077.50        2013   \n",
       "\n",
       "  Order Month   Year - Month  \n",
       "0         May       2010-May  \n",
       "1      August    2012-August  \n",
       "2    February  2014-February  \n",
       "3        June      2014-June  \n",
       "4     January   2013-January  "
      ]
     },
     "execution_count": 35,
     "metadata": {},
     "output_type": "execute_result"
    }
   ],
   "source": [
    "Data_Frame.head()"
   ]
  },
  {
   "cell_type": "code",
   "execution_count": 36,
   "id": "4c6955b2-6c3b-439c-933a-e32b4a79b122",
   "metadata": {},
   "outputs": [],
   "source": [
    "Group_Region=Data_Frame.groupby('Region') "
   ]
  },
  {
   "cell_type": "code",
   "execution_count": 37,
   "id": "658732c6-8088-4e4c-b86c-b1bb9803a0b4",
   "metadata": {},
   "outputs": [],
   "source": [
    "Region_agg=Group_Region['Total Revenue'].sum()"
   ]
  },
  {
   "cell_type": "code",
   "execution_count": 38,
   "id": "0e6eee65-3299-4eb9-b585-694e2354ecb9",
   "metadata": {},
   "outputs": [],
   "source": [
    "Region_df=Region_agg.to_frame().reset_index()"
   ]
  },
  {
   "cell_type": "code",
   "execution_count": 39,
   "id": "5910eee6-ae14-43c9-943e-4c93ff36bafd",
   "metadata": {},
   "outputs": [
    {
     "data": {
      "text/html": [
       "<div>\n",
       "<style scoped>\n",
       "    .dataframe tbody tr th:only-of-type {\n",
       "        vertical-align: middle;\n",
       "    }\n",
       "\n",
       "    .dataframe tbody tr th {\n",
       "        vertical-align: top;\n",
       "    }\n",
       "\n",
       "    .dataframe thead th {\n",
       "        text-align: right;\n",
       "    }\n",
       "</style>\n",
       "<table border=\"1\" class=\"dataframe\">\n",
       "  <thead>\n",
       "    <tr style=\"text-align: right;\">\n",
       "      <th></th>\n",
       "      <th>Region</th>\n",
       "      <th>Total Revenue</th>\n",
       "    </tr>\n",
       "  </thead>\n",
       "  <tbody>\n",
       "    <tr>\n",
       "      <th>0</th>\n",
       "      <td>Asia</td>\n",
       "      <td>21347091.02</td>\n",
       "    </tr>\n",
       "    <tr>\n",
       "      <th>1</th>\n",
       "      <td>Australia and Oceania</td>\n",
       "      <td>14094265.13</td>\n",
       "    </tr>\n",
       "    <tr>\n",
       "      <th>2</th>\n",
       "      <td>Central America and the Caribbean</td>\n",
       "      <td>9170385.49</td>\n",
       "    </tr>\n",
       "    <tr>\n",
       "      <th>3</th>\n",
       "      <td>Europe</td>\n",
       "      <td>33368932.11</td>\n",
       "    </tr>\n",
       "    <tr>\n",
       "      <th>4</th>\n",
       "      <td>Middle East and North Africa</td>\n",
       "      <td>14052706.58</td>\n",
       "    </tr>\n",
       "    <tr>\n",
       "      <th>5</th>\n",
       "      <td>North America</td>\n",
       "      <td>5643356.55</td>\n",
       "    </tr>\n",
       "    <tr>\n",
       "      <th>6</th>\n",
       "      <td>Sub-Saharan Africa</td>\n",
       "      <td>39672031.43</td>\n",
       "    </tr>\n",
       "  </tbody>\n",
       "</table>\n",
       "</div>"
      ],
      "text/plain": [
       "                              Region  Total Revenue\n",
       "0                               Asia    21347091.02\n",
       "1              Australia and Oceania    14094265.13\n",
       "2  Central America and the Caribbean     9170385.49\n",
       "3                             Europe    33368932.11\n",
       "4       Middle East and North Africa    14052706.58\n",
       "5                      North America     5643356.55\n",
       "6                 Sub-Saharan Africa    39672031.43"
      ]
     },
     "execution_count": 39,
     "metadata": {},
     "output_type": "execute_result"
    }
   ],
   "source": [
    "Region_df"
   ]
  },
  {
   "cell_type": "code",
   "execution_count": 40,
   "id": "675dd340-036d-4551-aeb2-f0ab848f00d4",
   "metadata": {},
   "outputs": [
    {
     "data": {
      "image/png": "[encoded data removed]",
      "text/plain": [
       "<Figure size 1600x600 with 1 Axes>"
      ]
     },
     "metadata": {},
     "output_type": "display_data"
    }
   ],
   "source": [
    "plt.figure(figsize=(16,6))\n",
    "colors = ['red', 'green', 'blue', 'cyan', 'magenta', 'yellow', 'brown'] #list of colors for each bars.\n",
    "\n",
    "plt.bar(Region_df['Region'],Region_df['Total Revenue'],color=colors,edgecolor='black',linewidth=1) #givig the bars the colors and border to look attractive.\n",
    "plt.xlabel('Region')\n",
    "plt.ylabel('Total Revenue')\n",
    "plt.title('Region vs Total Revenue')\n",
    "plt.gca().ticklabel_format(style='plain', axis='y')\n",
    "plt.xticks(rotation=90)\n",
    "plt.show()"
   ]
  },
  {
   "cell_type": "markdown",
   "id": "58671b93-773d-4ca6-8c94-9b5f446621e8",
   "metadata": {},
   "source": [
    "#### > INSIGHT : Revenue generated form an Region is higest at SUB-SAHARAN AFRICA"
   ]
  },
  {
   "cell_type": "markdown",
   "id": "f077640e-b367-4e95-b0ce-b9feeeba118a",
   "metadata": {},
   "source": [
    "#"
   ]
  },
  {
   "cell_type": "markdown",
   "id": "cf32608b-f285-4644-ba6c-497df4c04226",
   "metadata": {},
   "source": [
    "#### Filtering Total Revenue data based on Online & Offline for a Region"
   ]
  },
  {
   "cell_type": "code",
   "execution_count": 41,
   "id": "9cd7070b-48ac-4eb3-8326-1d97bd460891",
   "metadata": {},
   "outputs": [],
   "source": [
    "Online = Data_Frame[Data_Frame['Sales Channel'] == 'Online'] #filtering the online from Sales Channel column"
   ]
  },
  {
   "cell_type": "code",
   "execution_count": 42,
   "id": "97300b20-89da-4c3c-a6f9-12d52c0ec992",
   "metadata": {},
   "outputs": [
    {
     "data": {
      "text/html": [
       "<div>\n",
       "<style scoped>\n",
       "    .dataframe tbody tr th:only-of-type {\n",
       "        vertical-align: middle;\n",
       "    }\n",
       "\n",
       "    .dataframe tbody tr th {\n",
       "        vertical-align: top;\n",
       "    }\n",
       "\n",
       "    .dataframe thead th {\n",
       "        text-align: right;\n",
       "    }\n",
       "</style>\n",
       "<table border=\"1\" class=\"dataframe\">\n",
       "  <thead>\n",
       "    <tr style=\"text-align: right;\">\n",
       "      <th></th>\n",
       "      <th>Region</th>\n",
       "      <th>Total Revenue</th>\n",
       "    </tr>\n",
       "  </thead>\n",
       "  <tbody>\n",
       "    <tr>\n",
       "      <th>0</th>\n",
       "      <td>Asia</td>\n",
       "      <td>9200993.26</td>\n",
       "    </tr>\n",
       "    <tr>\n",
       "      <th>1</th>\n",
       "      <td>Australia and Oceania</td>\n",
       "      <td>9892397.28</td>\n",
       "    </tr>\n",
       "    <tr>\n",
       "      <th>2</th>\n",
       "      <td>Central America and the Caribbean</td>\n",
       "      <td>916273.30</td>\n",
       "    </tr>\n",
       "    <tr>\n",
       "      <th>3</th>\n",
       "      <td>Europe</td>\n",
       "      <td>15246445.66</td>\n",
       "    </tr>\n",
       "    <tr>\n",
       "      <th>4</th>\n",
       "      <td>Middle East and North Africa</td>\n",
       "      <td>9059567.70</td>\n",
       "    </tr>\n",
       "    <tr>\n",
       "      <th>5</th>\n",
       "      <td>Sub-Saharan Africa</td>\n",
       "      <td>13938281.91</td>\n",
       "    </tr>\n",
       "  </tbody>\n",
       "</table>\n",
       "</div>"
      ],
      "text/plain": [
       "                              Region  Total Revenue\n",
       "0                               Asia     9200993.26\n",
       "1              Australia and Oceania     9892397.28\n",
       "2  Central America and the Caribbean      916273.30\n",
       "3                             Europe    15246445.66\n",
       "4       Middle East and North Africa     9059567.70\n",
       "5                 Sub-Saharan Africa    13938281.91"
      ]
     },
     "execution_count": 42,
     "metadata": {},
     "output_type": "execute_result"
    }
   ],
   "source": [
    "Online_agg=Online.groupby('Region')['Total Revenue'].sum()\n",
    "Online_df=Online_agg.to_frame().reset_index() \n",
    "Online_df"
   ]
  },
  {
   "cell_type": "code",
   "execution_count": 43,
   "id": "9d702acd-a1a9-4d9d-aa70-46f2faf35609",
   "metadata": {},
   "outputs": [],
   "source": [
    "Offline=Data_Frame[Data_Frame['Sales Channel']=='Offline']"
   ]
  },
  {
   "cell_type": "code",
   "execution_count": 44,
   "id": "a10dabcf-201e-4be2-8ad5-84fc80eb1fde",
   "metadata": {},
   "outputs": [
    {
     "data": {
      "text/html": [
       "<div>\n",
       "<style scoped>\n",
       "    .dataframe tbody tr th:only-of-type {\n",
       "        vertical-align: middle;\n",
       "    }\n",
       "\n",
       "    .dataframe tbody tr th {\n",
       "        vertical-align: top;\n",
       "    }\n",
       "\n",
       "    .dataframe thead th {\n",
       "        text-align: right;\n",
       "    }\n",
       "</style>\n",
       "<table border=\"1\" class=\"dataframe\">\n",
       "  <thead>\n",
       "    <tr style=\"text-align: right;\">\n",
       "      <th></th>\n",
       "      <th>Region</th>\n",
       "      <th>Total Revenue</th>\n",
       "    </tr>\n",
       "  </thead>\n",
       "  <tbody>\n",
       "    <tr>\n",
       "      <th>0</th>\n",
       "      <td>Asia</td>\n",
       "      <td>12146097.76</td>\n",
       "    </tr>\n",
       "    <tr>\n",
       "      <th>1</th>\n",
       "      <td>Australia and Oceania</td>\n",
       "      <td>4201867.85</td>\n",
       "    </tr>\n",
       "    <tr>\n",
       "      <th>2</th>\n",
       "      <td>Central America and the Caribbean</td>\n",
       "      <td>8254112.19</td>\n",
       "    </tr>\n",
       "    <tr>\n",
       "      <th>3</th>\n",
       "      <td>Europe</td>\n",
       "      <td>18122486.45</td>\n",
       "    </tr>\n",
       "    <tr>\n",
       "      <th>4</th>\n",
       "      <td>Middle East and North Africa</td>\n",
       "      <td>4993138.88</td>\n",
       "    </tr>\n",
       "    <tr>\n",
       "      <th>5</th>\n",
       "      <td>North America</td>\n",
       "      <td>5643356.55</td>\n",
       "    </tr>\n",
       "    <tr>\n",
       "      <th>6</th>\n",
       "      <td>Sub-Saharan Africa</td>\n",
       "      <td>25733749.52</td>\n",
       "    </tr>\n",
       "  </tbody>\n",
       "</table>\n",
       "</div>"
      ],
      "text/plain": [
       "                              Region  Total Revenue\n",
       "0                               Asia    12146097.76\n",
       "1              Australia and Oceania     4201867.85\n",
       "2  Central America and the Caribbean     8254112.19\n",
       "3                             Europe    18122486.45\n",
       "4       Middle East and North Africa     4993138.88\n",
       "5                      North America     5643356.55\n",
       "6                 Sub-Saharan Africa    25733749.52"
      ]
     },
     "execution_count": 44,
     "metadata": {},
     "output_type": "execute_result"
    }
   ],
   "source": [
    "Offline_agg=Offline.groupby('Region')['Total Revenue'].sum()\n",
    "Offline_df=Offline_agg.to_frame().reset_index() \n",
    "Offline_df"
   ]
  },
  {
   "cell_type": "code",
   "execution_count": 45,
   "id": "f251f723-857b-4d0c-adca-7d146292c5dd",
   "metadata": {},
   "outputs": [
    {
     "data": {
      "image/png": "[encoded data removed]",
      "text/plain": [
       "<Figure size 1500x1000 with 2 Axes>"
      ]
     },
     "metadata": {},
     "output_type": "display_data"
    }
   ],
   "source": [
    "#Filtered Online Sales\n",
    "plt.figure(figsize=(15,10)) #canvas size\n",
    "\n",
    "plt.subplot(1,2,1) #fitting the plots in the row wise \n",
    "\n",
    "plt.bar(Online_df['Region'],Online_df['Total Revenue'],color='orange',edgecolor='black')\n",
    "plt.xlabel('Region')\n",
    "plt.ylabel('Total Revenue')\n",
    "plt.title('Total Revenue generated from region by Online')\n",
    "plt.gca().ticklabel_format(style='plain', axis='y')\n",
    "plt.xticks(rotation=90)\n",
    "\n",
    "\n",
    "plt.subplot(1,2,2)\n",
    "\n",
    "plt.bar(Offline_df['Region'],Offline_df['Total Revenue'],color='orange',edgecolor='black')\n",
    "plt.xlabel('Region')\n",
    "plt.ylabel('Total Revenue')\n",
    "plt.title('Total Revenue generated from region by Offline')\n",
    "plt.gca().ticklabel_format(style='plain', axis='y')\n",
    "plt.xticks(rotation=90)\n",
    "\n",
    "\n",
    "plt.show()\n"
   ]
  },
  {
   "cell_type": "markdown",
   "id": "1682bb1a-94f4-4f41-98ff-906f8041c954",
   "metadata": {},
   "source": [
    "#### > INSIGHT : \n",
    "#### As the comparing the plot of Online & Offline, the Revenue generated in Region by Online is highest at  EUPORE Region & the Revenue generated in Region by Offline is highest at SUB-SAHARAN AFRICA"
   ]
  },
  {
   "cell_type": "markdown",
   "id": "191576b8-9252-44e2-baa3-efca42f515d4",
   "metadata": {},
   "source": [
    "#"
   ]
  },
  {
   "cell_type": "markdown",
   "id": "db773984-4816-4e83-9e28-598181599abb",
   "metadata": {},
   "source": [
    "#### Top 3 Most Unit Sold Countries in each Region "
   ]
  },
  {
   "cell_type": "code",
   "execution_count": 46,
   "id": "b3436229-3ff1-4030-ba30-7f2fbd7087f6",
   "metadata": {},
   "outputs": [
    {
     "data": {
      "text/html": [
       "<div>\n",
       "<style scoped>\n",
       "    .dataframe tbody tr th:only-of-type {\n",
       "        vertical-align: middle;\n",
       "    }\n",
       "\n",
       "    .dataframe tbody tr th {\n",
       "        vertical-align: top;\n",
       "    }\n",
       "\n",
       "    .dataframe thead th {\n",
       "        text-align: right;\n",
       "    }\n",
       "</style>\n",
       "<table border=\"1\" class=\"dataframe\">\n",
       "  <thead>\n",
       "    <tr style=\"text-align: right;\">\n",
       "      <th></th>\n",
       "      <th>Region</th>\n",
       "      <th>Country</th>\n",
       "      <th>Item Type</th>\n",
       "      <th>Sales Channel</th>\n",
       "      <th>Order Priority</th>\n",
       "      <th>Order Date</th>\n",
       "      <th>Order ID</th>\n",
       "      <th>Ship Date</th>\n",
       "      <th>Units Sold</th>\n",
       "      <th>Unit Price</th>\n",
       "      <th>Unit Cost</th>\n",
       "      <th>Total Revenue</th>\n",
       "      <th>Total Cost</th>\n",
       "      <th>Total Profit</th>\n",
       "      <th>Order Year</th>\n",
       "      <th>Order Month</th>\n",
       "      <th>Year - Month</th>\n",
       "    </tr>\n",
       "  </thead>\n",
       "  <tbody>\n",
       "    <tr>\n",
       "      <th>0</th>\n",
       "      <td>Australia and Oceania</td>\n",
       "      <td>Tuvalu</td>\n",
       "      <td>Baby Food</td>\n",
       "      <td>Offline</td>\n",
       "      <td>H</td>\n",
       "      <td>2010-05-28</td>\n",
       "      <td>669165933</td>\n",
       "      <td>2010-06-27</td>\n",
       "      <td>9925</td>\n",
       "      <td>255.28</td>\n",
       "      <td>159.42</td>\n",
       "      <td>2533654.00</td>\n",
       "      <td>1582243.50</td>\n",
       "      <td>951410.50</td>\n",
       "      <td>2010</td>\n",
       "      <td>May</td>\n",
       "      <td>2010-May</td>\n",
       "    </tr>\n",
       "    <tr>\n",
       "      <th>1</th>\n",
       "      <td>Central America and the Caribbean</td>\n",
       "      <td>Grenada</td>\n",
       "      <td>Cereal</td>\n",
       "      <td>Online</td>\n",
       "      <td>C</td>\n",
       "      <td>2012-08-22</td>\n",
       "      <td>963881480</td>\n",
       "      <td>2012-09-15</td>\n",
       "      <td>2804</td>\n",
       "      <td>205.70</td>\n",
       "      <td>117.11</td>\n",
       "      <td>576782.80</td>\n",
       "      <td>328376.44</td>\n",
       "      <td>248406.36</td>\n",
       "      <td>2012</td>\n",
       "      <td>August</td>\n",
       "      <td>2012-August</td>\n",
       "    </tr>\n",
       "    <tr>\n",
       "      <th>2</th>\n",
       "      <td>Europe</td>\n",
       "      <td>Russia</td>\n",
       "      <td>Office Supplies</td>\n",
       "      <td>Offline</td>\n",
       "      <td>L</td>\n",
       "      <td>2014-02-05</td>\n",
       "      <td>341417157</td>\n",
       "      <td>2014-08-05</td>\n",
       "      <td>1779</td>\n",
       "      <td>651.21</td>\n",
       "      <td>524.96</td>\n",
       "      <td>1158502.59</td>\n",
       "      <td>933903.84</td>\n",
       "      <td>224598.75</td>\n",
       "      <td>2014</td>\n",
       "      <td>February</td>\n",
       "      <td>2014-February</td>\n",
       "    </tr>\n",
       "    <tr>\n",
       "      <th>3</th>\n",
       "      <td>Sub-Saharan Africa</td>\n",
       "      <td>Sao Tome and Principe</td>\n",
       "      <td>Fruits</td>\n",
       "      <td>Online</td>\n",
       "      <td>C</td>\n",
       "      <td>2014-06-20</td>\n",
       "      <td>514321792</td>\n",
       "      <td>2014-05-07</td>\n",
       "      <td>8102</td>\n",
       "      <td>9.33</td>\n",
       "      <td>6.92</td>\n",
       "      <td>75591.66</td>\n",
       "      <td>56065.84</td>\n",
       "      <td>19525.82</td>\n",
       "      <td>2014</td>\n",
       "      <td>June</td>\n",
       "      <td>2014-June</td>\n",
       "    </tr>\n",
       "    <tr>\n",
       "      <th>4</th>\n",
       "      <td>Sub-Saharan Africa</td>\n",
       "      <td>Rwanda</td>\n",
       "      <td>Office Supplies</td>\n",
       "      <td>Offline</td>\n",
       "      <td>L</td>\n",
       "      <td>2013-01-02</td>\n",
       "      <td>115456712</td>\n",
       "      <td>2013-06-02</td>\n",
       "      <td>5062</td>\n",
       "      <td>651.21</td>\n",
       "      <td>524.96</td>\n",
       "      <td>3296425.02</td>\n",
       "      <td>2657347.52</td>\n",
       "      <td>639077.50</td>\n",
       "      <td>2013</td>\n",
       "      <td>January</td>\n",
       "      <td>2013-January</td>\n",
       "    </tr>\n",
       "  </tbody>\n",
       "</table>\n",
       "</div>"
      ],
      "text/plain": [
       "                              Region                Country        Item Type  \\\n",
       "0              Australia and Oceania                 Tuvalu        Baby Food   \n",
       "1  Central America and the Caribbean                Grenada           Cereal   \n",
       "2                             Europe                 Russia  Office Supplies   \n",
       "3                 Sub-Saharan Africa  Sao Tome and Principe           Fruits   \n",
       "4                 Sub-Saharan Africa                 Rwanda  Office Supplies   \n",
       "\n",
       "  Sales Channel Order Priority Order Date   Order ID  Ship Date  Units Sold  \\\n",
       "0       Offline              H 2010-05-28  669165933 2010-06-27        9925   \n",
       "1        Online              C 2012-08-22  963881480 2012-09-15        2804   \n",
       "2       Offline              L 2014-02-05  341417157 2014-08-05        1779   \n",
       "3        Online              C 2014-06-20  514321792 2014-05-07        8102   \n",
       "4       Offline              L 2013-01-02  115456712 2013-06-02        5062   \n",
       "\n",
       "   Unit Price  Unit Cost  Total Revenue  Total Cost  Total Profit  Order Year  \\\n",
       "0      255.28     159.42     2533654.00  1582243.50     951410.50        2010   \n",
       "1      205.70     117.11      576782.80   328376.44     248406.36        2012   \n",
       "2      651.21     524.96     1158502.59   933903.84     224598.75        2014   \n",
       "3        9.33       6.92       75591.66    56065.84      19525.82        2014   \n",
       "4      651.21     524.96     3296425.02  2657347.52     639077.50        2013   \n",
       "\n",
       "  Order Month   Year - Month  \n",
       "0         May       2010-May  \n",
       "1      August    2012-August  \n",
       "2    February  2014-February  \n",
       "3        June      2014-June  \n",
       "4     January   2013-January  "
      ]
     },
     "execution_count": 46,
     "metadata": {},
     "output_type": "execute_result"
    }
   ],
   "source": [
    "Data_Frame.head()"
   ]
  },
  {
   "cell_type": "code",
   "execution_count": 47,
   "id": "bbf515ad-9370-49fe-8e9f-d588545f46c6",
   "metadata": {},
   "outputs": [],
   "source": [
    "Region_Country_df=Data_Frame.groupby(['Region','Country'])['Units Sold'].sum().to_frame().reset_index()"
   ]
  },
  {
   "cell_type": "code",
   "execution_count": 48,
   "id": "c68e0a26-10ba-4e8c-a005-bef3dfea806c",
   "metadata": {},
   "outputs": [
    {
     "data": {
      "text/html": [
       "<div>\n",
       "<style scoped>\n",
       "    .dataframe tbody tr th:only-of-type {\n",
       "        vertical-align: middle;\n",
       "    }\n",
       "\n",
       "    .dataframe tbody tr th {\n",
       "        vertical-align: top;\n",
       "    }\n",
       "\n",
       "    .dataframe thead th {\n",
       "        text-align: right;\n",
       "    }\n",
       "</style>\n",
       "<table border=\"1\" class=\"dataframe\">\n",
       "  <thead>\n",
       "    <tr style=\"text-align: right;\">\n",
       "      <th></th>\n",
       "      <th>Region</th>\n",
       "      <th>Country</th>\n",
       "      <th>Units Sold</th>\n",
       "    </tr>\n",
       "  </thead>\n",
       "  <tbody>\n",
       "    <tr>\n",
       "      <th>0</th>\n",
       "      <td>Asia</td>\n",
       "      <td>Bangladesh</td>\n",
       "      <td>8263</td>\n",
       "    </tr>\n",
       "    <tr>\n",
       "      <th>1</th>\n",
       "      <td>Asia</td>\n",
       "      <td>Brunei</td>\n",
       "      <td>6708</td>\n",
       "    </tr>\n",
       "    <tr>\n",
       "      <th>2</th>\n",
       "      <td>Asia</td>\n",
       "      <td>Kyrgyzstan</td>\n",
       "      <td>124</td>\n",
       "    </tr>\n",
       "    <tr>\n",
       "      <th>3</th>\n",
       "      <td>Asia</td>\n",
       "      <td>Laos</td>\n",
       "      <td>3732</td>\n",
       "    </tr>\n",
       "    <tr>\n",
       "      <th>4</th>\n",
       "      <td>Asia</td>\n",
       "      <td>Malaysia</td>\n",
       "      <td>6267</td>\n",
       "    </tr>\n",
       "  </tbody>\n",
       "</table>\n",
       "</div>"
      ],
      "text/plain": [
       "  Region     Country  Units Sold\n",
       "0   Asia  Bangladesh        8263\n",
       "1   Asia      Brunei        6708\n",
       "2   Asia  Kyrgyzstan         124\n",
       "3   Asia        Laos        3732\n",
       "4   Asia    Malaysia        6267"
      ]
     },
     "execution_count": 48,
     "metadata": {},
     "output_type": "execute_result"
    }
   ],
   "source": [
    "Region_Country_df.head()"
   ]
  },
  {
   "cell_type": "code",
   "execution_count": 49,
   "id": "6730238e-cfcf-439c-81aa-b73174d46f8c",
   "metadata": {},
   "outputs": [],
   "source": [
    "Sorted_R_C_df=Region_Country_df.sort_values(['Region','Units Sold'],ascending=[True,False])"
   ]
  },
  {
   "cell_type": "code",
   "execution_count": 50,
   "id": "6aede5d1-4788-434f-89f4-b2c7bad7f5bc",
   "metadata": {},
   "outputs": [
    {
     "data": {
      "text/html": [
       "<div>\n",
       "<style scoped>\n",
       "    .dataframe tbody tr th:only-of-type {\n",
       "        vertical-align: middle;\n",
       "    }\n",
       "\n",
       "    .dataframe tbody tr th {\n",
       "        vertical-align: top;\n",
       "    }\n",
       "\n",
       "    .dataframe thead th {\n",
       "        text-align: right;\n",
       "    }\n",
       "</style>\n",
       "<table border=\"1\" class=\"dataframe\">\n",
       "  <thead>\n",
       "    <tr style=\"text-align: right;\">\n",
       "      <th></th>\n",
       "      <th>Region</th>\n",
       "      <th>Country</th>\n",
       "      <th>Units Sold</th>\n",
       "    </tr>\n",
       "  </thead>\n",
       "  <tbody>\n",
       "    <tr>\n",
       "      <th>6</th>\n",
       "      <td>Asia</td>\n",
       "      <td>Myanmar</td>\n",
       "      <td>14180</td>\n",
       "    </tr>\n",
       "    <tr>\n",
       "      <th>8</th>\n",
       "      <td>Asia</td>\n",
       "      <td>Turkmenistan</td>\n",
       "      <td>8840</td>\n",
       "    </tr>\n",
       "    <tr>\n",
       "      <th>0</th>\n",
       "      <td>Asia</td>\n",
       "      <td>Bangladesh</td>\n",
       "      <td>8263</td>\n",
       "    </tr>\n",
       "    <tr>\n",
       "      <th>7</th>\n",
       "      <td>Asia</td>\n",
       "      <td>Sri Lanka</td>\n",
       "      <td>6952</td>\n",
       "    </tr>\n",
       "    <tr>\n",
       "      <th>1</th>\n",
       "      <td>Asia</td>\n",
       "      <td>Brunei</td>\n",
       "      <td>6708</td>\n",
       "    </tr>\n",
       "  </tbody>\n",
       "</table>\n",
       "</div>"
      ],
      "text/plain": [
       "  Region       Country  Units Sold\n",
       "6   Asia       Myanmar       14180\n",
       "8   Asia  Turkmenistan        8840\n",
       "0   Asia    Bangladesh        8263\n",
       "7   Asia     Sri Lanka        6952\n",
       "1   Asia        Brunei        6708"
      ]
     },
     "execution_count": 50,
     "metadata": {},
     "output_type": "execute_result"
    }
   ],
   "source": [
    "Sorted_R_C_df.head()"
   ]
  },
  {
   "cell_type": "code",
   "execution_count": 51,
   "id": "c7e691f6-3f8f-4249-b753-cefcc008cfb7",
   "metadata": {},
   "outputs": [],
   "source": [
    "Top_country_by_region= Sorted_R_C_df.groupby('Region').head(3)"
   ]
  },
  {
   "cell_type": "code",
   "execution_count": 52,
   "id": "3c3f4b00-dd55-4675-a007-bbf86658520c",
   "metadata": {},
   "outputs": [
    {
     "data": {
      "text/html": [
       "<div>\n",
       "<style scoped>\n",
       "    .dataframe tbody tr th:only-of-type {\n",
       "        vertical-align: middle;\n",
       "    }\n",
       "\n",
       "    .dataframe tbody tr th {\n",
       "        vertical-align: top;\n",
       "    }\n",
       "\n",
       "    .dataframe thead th {\n",
       "        text-align: right;\n",
       "    }\n",
       "</style>\n",
       "<table border=\"1\" class=\"dataframe\">\n",
       "  <thead>\n",
       "    <tr style=\"text-align: right;\">\n",
       "      <th></th>\n",
       "      <th>Region</th>\n",
       "      <th>Country</th>\n",
       "      <th>Units Sold</th>\n",
       "    </tr>\n",
       "  </thead>\n",
       "  <tbody>\n",
       "    <tr>\n",
       "      <th>6</th>\n",
       "      <td>Asia</td>\n",
       "      <td>Myanmar</td>\n",
       "      <td>14180</td>\n",
       "    </tr>\n",
       "    <tr>\n",
       "      <th>8</th>\n",
       "      <td>Asia</td>\n",
       "      <td>Turkmenistan</td>\n",
       "      <td>8840</td>\n",
       "    </tr>\n",
       "    <tr>\n",
       "      <th>0</th>\n",
       "      <td>Asia</td>\n",
       "      <td>Bangladesh</td>\n",
       "      <td>8263</td>\n",
       "    </tr>\n",
       "    <tr>\n",
       "      <th>9</th>\n",
       "      <td>Australia and Oceania</td>\n",
       "      <td>Australia</td>\n",
       "      <td>12995</td>\n",
       "    </tr>\n",
       "    <tr>\n",
       "      <th>17</th>\n",
       "      <td>Australia and Oceania</td>\n",
       "      <td>Tuvalu</td>\n",
       "      <td>9925</td>\n",
       "    </tr>\n",
       "    <tr>\n",
       "      <th>12</th>\n",
       "      <td>Australia and Oceania</td>\n",
       "      <td>Fiji</td>\n",
       "      <td>9905</td>\n",
       "    </tr>\n",
       "    <tr>\n",
       "      <th>22</th>\n",
       "      <td>Central America and the Caribbean</td>\n",
       "      <td>Honduras</td>\n",
       "      <td>11199</td>\n",
       "    </tr>\n",
       "    <tr>\n",
       "      <th>23</th>\n",
       "      <td>Central America and the Caribbean</td>\n",
       "      <td>Nicaragua</td>\n",
       "      <td>8156</td>\n",
       "    </tr>\n",
       "    <tr>\n",
       "      <th>19</th>\n",
       "      <td>Central America and the Caribbean</td>\n",
       "      <td>Costa Rica</td>\n",
       "      <td>6409</td>\n",
       "    </tr>\n",
       "    <tr>\n",
       "      <th>33</th>\n",
       "      <td>Europe</td>\n",
       "      <td>Norway</td>\n",
       "      <td>12574</td>\n",
       "    </tr>\n",
       "    <tr>\n",
       "      <th>41</th>\n",
       "      <td>Europe</td>\n",
       "      <td>Switzerland</td>\n",
       "      <td>8934</td>\n",
       "    </tr>\n",
       "    <tr>\n",
       "      <th>28</th>\n",
       "      <td>Europe</td>\n",
       "      <td>Iceland</td>\n",
       "      <td>8867</td>\n",
       "    </tr>\n",
       "    <tr>\n",
       "      <th>48</th>\n",
       "      <td>Middle East and North Africa</td>\n",
       "      <td>Pakistan</td>\n",
       "      <td>9892</td>\n",
       "    </tr>\n",
       "    <tr>\n",
       "      <th>43</th>\n",
       "      <td>Middle East and North Africa</td>\n",
       "      <td>Azerbaijan</td>\n",
       "      <td>9255</td>\n",
       "    </tr>\n",
       "    <tr>\n",
       "      <th>46</th>\n",
       "      <td>Middle East and North Africa</td>\n",
       "      <td>Lebanon</td>\n",
       "      <td>7884</td>\n",
       "    </tr>\n",
       "    <tr>\n",
       "      <th>51</th>\n",
       "      <td>North America</td>\n",
       "      <td>Mexico</td>\n",
       "      <td>19143</td>\n",
       "    </tr>\n",
       "    <tr>\n",
       "      <th>70</th>\n",
       "      <td>Sub-Saharan Africa</td>\n",
       "      <td>Sao Tome and Principe</td>\n",
       "      <td>24568</td>\n",
       "    </tr>\n",
       "    <tr>\n",
       "      <th>59</th>\n",
       "      <td>Sub-Saharan Africa</td>\n",
       "      <td>Djibouti</td>\n",
       "      <td>23198</td>\n",
       "    </tr>\n",
       "    <tr>\n",
       "      <th>74</th>\n",
       "      <td>Sub-Saharan Africa</td>\n",
       "      <td>The Gambia</td>\n",
       "      <td>14813</td>\n",
       "    </tr>\n",
       "  </tbody>\n",
       "</table>\n",
       "</div>"
      ],
      "text/plain": [
       "                               Region                Country  Units Sold\n",
       "6                                Asia                Myanmar       14180\n",
       "8                                Asia           Turkmenistan        8840\n",
       "0                                Asia             Bangladesh        8263\n",
       "9               Australia and Oceania              Australia       12995\n",
       "17              Australia and Oceania                 Tuvalu        9925\n",
       "12              Australia and Oceania                   Fiji        9905\n",
       "22  Central America and the Caribbean               Honduras       11199\n",
       "23  Central America and the Caribbean              Nicaragua        8156\n",
       "19  Central America and the Caribbean             Costa Rica        6409\n",
       "33                             Europe                 Norway       12574\n",
       "41                             Europe            Switzerland        8934\n",
       "28                             Europe                Iceland        8867\n",
       "48       Middle East and North Africa               Pakistan        9892\n",
       "43       Middle East and North Africa             Azerbaijan        9255\n",
       "46       Middle East and North Africa                Lebanon        7884\n",
       "51                      North America                 Mexico       19143\n",
       "70                 Sub-Saharan Africa  Sao Tome and Principe       24568\n",
       "59                 Sub-Saharan Africa               Djibouti       23198\n",
       "74                 Sub-Saharan Africa             The Gambia       14813"
      ]
     },
     "execution_count": 52,
     "metadata": {},
     "output_type": "execute_result"
    }
   ],
   "source": [
    "Top_country_by_region"
   ]
  },
  {
   "cell_type": "code",
   "execution_count": 53,
   "id": "ddc721c6-de0d-46d5-8ab9-a871c1e96852",
   "metadata": {},
   "outputs": [
    {
     "data": {
      "image/png": "[encoded data removed]",
      "text/plain": [
       "<Figure size 2000x1000 with 1 Axes>"
      ]
     },
     "metadata": {},
     "output_type": "display_data"
    }
   ],
   "source": [
    "plt.figure(figsize=(20,10))\n",
    "\n",
    "sns.barplot(\n",
    "    data=Top_country_by_region,  \n",
    "    x='Region', \n",
    "    y='Units Sold', \n",
    "    hue='Country',edgecolor='black',  \n",
    "    linewidth=2)\n",
    "\n",
    "# Improve the readability \n",
    "plt.xticks(rotation=90)  \n",
    "plt.xlabel('Region') \n",
    "plt.ylabel('Units Sold')  \n",
    "plt.title('Top Countries by Units Sold in Each Region')  \n",
    "\n",
    "# Adjust the legend\n",
    "plt.legend(title='Country', bbox_to_anchor=(1.05, 1), loc='upper left')  # Move the legend outside of the plot\n",
    "plt.show()"
   ]
  },
  {
   "cell_type": "markdown",
   "id": "424f32c2-b3aa-4d03-9c37-cf1e5679caf1",
   "metadata": {},
   "source": [
    "#### INSIGHT :\n",
    "#### As the top 3 with most Unit Sold countries in each region is as followed\n",
    "#### - Asia : Myanmar, Turkmenistan, Bangladesh\n",
    "#### - Australia and Oceania : Australia, Tuvalu, Fiji\n",
    "#### - Central America and the Caribbean : Honduras, Nicaragua, Costa Rica\n",
    "#### - Europe : Norway, Switzerland, Iceland\n",
    "#### - Middle East and North Africa : Pakistan, Azerbaijan, Lebanon\n",
    "#### - North America : Mexico\n",
    "#### - Sub-Saharan Africa : Sao Tome and Principe, Djibouti, The Gambia"
   ]
  }
 ],
 "metadata": {
  "kernelspec": {
   "display_name": "Python 3 (ipykernel)",
   "language": "python",
   "name": "python3"
  },
  "language_info": {
   "codemirror_mode": {
    "name": "ipython",
    "version": 3
   },
   "file_extension": ".py",
   "mimetype": "text/x-python",
   "name": "python",
   "nbconvert_exporter": "python",
   "pygments_lexer": "ipython3",
   "version": "3.12.0"
  }
 },
 "nbformat": 4,
 "nbformat_minor": 5
}
